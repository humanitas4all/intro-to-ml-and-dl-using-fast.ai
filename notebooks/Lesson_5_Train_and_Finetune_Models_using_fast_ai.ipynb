{
  "nbformat": 4,
  "nbformat_minor": 0,
  "metadata": {
    "colab": {
      "name": "Lesson 5 - Train and Finetune Models using fast.ai",
      "provenance": [],
      "collapsed_sections": [],
      "authorship_tag": "ABX9TyNu8OzkbT5wERQdQoAGwG4C",
      "include_colab_link": true
    },
    "kernelspec": {
      "name": "python3",
      "display_name": "Python 3"
    }
  },
  "cells": [
    {
      "cell_type": "markdown",
      "metadata": {
        "id": "view-in-github",
        "colab_type": "text"
      },
      "source": [
        "<a href=\"https://colab.research.google.com/github/marianqian/Intro-to-ML-and-DL-Using-fast.ai/blob/master/notebooks/Lesson_5_Train_and_Finetune_Models_using_fast_ai.ipynb\" target=\"_parent\"><img src=\"https://colab.research.google.com/assets/colab-badge.svg\" alt=\"Open In Colab\"/></a>"
      ]
    },
    {
      "cell_type": "markdown",
      "metadata": {
        "id": "F7XZ2Tytq0dy",
        "colab_type": "text"
      },
      "source": [
        "Welcome to the AI Academy! This is the fifth lesson, focused on learning how to use the fast.ai library to build actual neural network models for collaborative filtering and tabular data. We used [fastai](https://www.fast.ai/) in the lesson 4 Google Colab notebook, so please make sure you understand how the data was loaded and processed because we will be building upon that in this notebook.\n",
        "\n",
        "You can learn more about fastai [here](https://docs.fast.ai/); the library is split between four different parts, which are vision, text, tabular, and collab models. fastai focuses on neural networks, and for the rest of the course we will be exploring how to use this library. \n",
        "\n",
        "The creater of fastai, Jeremy Howard, also taught a course explaining how to use the library and introduces deep learning to those who have no experience with it before. We highly recommend you to look at his videos linked [here](https://course.fast.ai/videos/?lesson=1) when you have the time. \n",
        "\n",
        "NOTE: Educational use and distribution is permitted, but credit and attribution to AIM Academy is required. "
      ]
    },
    {
      "cell_type": "markdown",
      "metadata": {
        "id": "uKDCNNbsq1vs",
        "colab_type": "text"
      },
      "source": [
        "#Learning Objectives: \n",
        "* Understand how to use learners in fast.ai for collaborative filtering and tabular data \n",
        "* Be able to find and change the learning rate of a model \n",
        "* Understand how collaborative filtering works\n",
        "* Understand what tabular data is \n"
      ]
    },
    {
      "cell_type": "markdown",
      "metadata": {
        "id": "D1zTTxJ1dagW",
        "colab_type": "text"
      },
      "source": [
        "#Collaborative filtering\n",
        "As explained in the previous notebook, the goal of collaborative filtering is to predict how much someone would like an item given previous data about other items. \n",
        "\n",
        "Using the `fastai.collab` section of the `fastai` library, we will predict how much someone would like a movie given their previous ratings of movies on a scale from 0 to 5. \n",
        "\n",
        "The following code block will load in the data to a `Databunch`(the same from the previous notebook), and the following blocks will explain how to actually create a neural network. "
      ]
    },
    {
      "cell_type": "code",
      "metadata": {
        "id": "GUtOPuOkp1bm",
        "colab_type": "code",
        "outputId": "fc7111fa-7d16-4f91-9ff4-3fddc7272932",
        "colab": {
          "base_uri": "https://localhost:8080/",
          "height": 214
        }
      },
      "source": [
        "#CODE BELOW IS FULLY CREDITED TO FASTAI (fast.ai)\n",
        "#USED ONLY FOR EDUCATIONAL PURPOSES UNDER FAIR USE\n",
        "\n",
        "from fastai.collab import *\n",
        "path = untar_data(URLs.ML_SAMPLE)\n",
        "ratings = pd.read_csv(path/'ratings.csv')\n",
        "ratings.head()\n",
        "data = CollabDataBunch.from_df(ratings, seed=42)\n",
        "data.show_batch() #These are the first five examples "
      ],
      "execution_count": 0,
      "outputs": [
        {
          "output_type": "stream",
          "text": [
            "Downloading http://files.fast.ai/data/examples/movie_lens_sample\n"
          ],
          "name": "stdout"
        },
        {
          "output_type": "display_data",
          "data": {
            "text/html": [
              ""
            ],
            "text/plain": [
              "<IPython.core.display.HTML object>"
            ]
          },
          "metadata": {
            "tags": []
          }
        },
        {
          "output_type": "display_data",
          "data": {
            "text/html": [
              "<table border=\"1\" class=\"dataframe\">\n",
              "  <thead>\n",
              "    <tr style=\"text-align: right;\">\n",
              "      <th>userId</th>\n",
              "      <th>movieId</th>\n",
              "      <th>target</th>\n",
              "    </tr>\n",
              "  </thead>\n",
              "  <tbody>\n",
              "    <tr>\n",
              "      <td>353</td>\n",
              "      <td>5952</td>\n",
              "      <td>3.0</td>\n",
              "    </tr>\n",
              "    <tr>\n",
              "      <td>119</td>\n",
              "      <td>153</td>\n",
              "      <td>1.0</td>\n",
              "    </tr>\n",
              "    <tr>\n",
              "      <td>285</td>\n",
              "      <td>364</td>\n",
              "      <td>3.0</td>\n",
              "    </tr>\n",
              "    <tr>\n",
              "      <td>468</td>\n",
              "      <td>231</td>\n",
              "      <td>2.5</td>\n",
              "    </tr>\n",
              "    <tr>\n",
              "      <td>157</td>\n",
              "      <td>1291</td>\n",
              "      <td>3.5</td>\n",
              "    </tr>\n",
              "  </tbody>\n",
              "</table>"
            ],
            "text/plain": [
              "<IPython.core.display.HTML object>"
            ]
          },
          "metadata": {
            "tags": []
          }
        }
      ]
    },
    {
      "cell_type": "markdown",
      "metadata": {
        "id": "1CtechUBlY75",
        "colab_type": "text"
      },
      "source": [
        "The `userId` identifies the different users ratings of a movie with id of `movieId`, and their ratings are located in the column `target`. Our goal is to train a model that would predict a rating as close to the `target` as possible. "
      ]
    },
    {
      "cell_type": "markdown",
      "metadata": {
        "id": "z8G-saSJmC5L",
        "colab_type": "text"
      },
      "source": [
        "###Creating a neural network\n",
        "\n",
        "Here we initialize a `Learner` object by calling the `collab_learner` method. We pass in the **`data`** object, which is a `DataBunch`, and the **`n_factors`**, **`y_range`**, and **`wd`** parameters.\n",
        "\n",
        "The `n_factors` parameter specifies how large the neural network can be. For collaborative filtering, the neural network is determined by the size of the embedding layer, which is essentially a matrix of the weights in the form of vectors with each vector corresponding to a certain user. \n",
        "\n",
        "The `y_range` specifies the range for the output value. Since we are trying to predict the rating of a movie on a scale from 0 to 5, the output should also be between 0 and 5. The final activation function for the model is a sigmiod function, and adding a specified range will ensure that the network will predict the ratings in the right range. \n",
        "\n",
        "The `wd` parameter is an example of a hyperparameter, similar to a learning rate. Because we do not want the weights to become super large and spiral out of control, we can add the sum of squares of the weights to the loss function and multiply that by the `wd` parameter. \n",
        "\n",
        "This way, larger or more complex weights will result in a higher loss, and the model will try to lower that loss using gradient descent. The model will aim for smaller or less complex weights. "
      ]
    },
    {
      "cell_type": "code",
      "metadata": {
        "id": "1xtl82ADhcEc",
        "colab_type": "code",
        "colab": {}
      },
      "source": [
        "#CODE BELOW IS FULLY CREDITED TO FASTAI (fast.ai)\n",
        "#USED ONLY FOR EDUCATIONAL PURPOSES UNDER FAIR USE\n",
        "\n",
        "learn = collab_learner(data, n_factors=50, y_range=(0.,5.), wd=0.1)"
      ],
      "execution_count": 0,
      "outputs": []
    },
    {
      "cell_type": "markdown",
      "metadata": {
        "id": "Md-hqIXAk7yh",
        "colab_type": "text"
      },
      "source": [
        "###Finding learning rate\n",
        "Finding a learning rate which allows your model to train fast and effectively is extremely important. \n",
        "\n",
        "The `learn` object is essentially our neural network model. When we call `lr_find`, which is short for \"finding learning rate\", the model will look through all the data points in the dataset, called an epoch. For every mini-batch, which is a set of data points within the whole dataset, the model will record the loss using a given learning rate and will continue recording the loss for another mini-batch with a different learning rate. \n",
        "\n",
        "This way, we can see how the loss varies for the model for different learning rates, and then we can choose the best one. "
      ]
    },
    {
      "cell_type": "code",
      "metadata": {
        "id": "jQEs8dHIhe86",
        "colab_type": "code",
        "outputId": "057ae052-9e48-402f-b257-5245de267c10",
        "colab": {
          "base_uri": "https://localhost:8080/",
          "height": 407
        }
      },
      "source": [
        "#CODE BELOW IS FULLY CREDITED TO FASTAI (fast.ai)\n",
        "#USED ONLY FOR EDUCATIONAL PURPOSES UNDER FAIR USE\n",
        "\n",
        "learn.lr_find()\n",
        "learn.recorder.plot(skip_end=15)"
      ],
      "execution_count": 0,
      "outputs": [
        {
          "output_type": "display_data",
          "data": {
            "text/html": [
              "\n",
              "    <div>\n",
              "        <style>\n",
              "            /* Turns off some styling */\n",
              "            progress {\n",
              "                /* gets rid of default border in Firefox and Opera. */\n",
              "                border: none;\n",
              "                /* Needs to be in here for Safari polyfill so background images work as expected. */\n",
              "                background-size: auto;\n",
              "            }\n",
              "            .progress-bar-interrupted, .progress-bar-interrupted::-webkit-progress-bar {\n",
              "                background: #F44336;\n",
              "            }\n",
              "        </style>\n",
              "      <progress value='1' class='' max='2' style='width:300px; height:20px; vertical-align: middle;'></progress>\n",
              "      50.00% [1/2 00:00<00:00]\n",
              "    </div>\n",
              "    \n",
              "<table border=\"1\" class=\"dataframe\">\n",
              "  <thead>\n",
              "    <tr style=\"text-align: left;\">\n",
              "      <th>epoch</th>\n",
              "      <th>train_loss</th>\n",
              "      <th>valid_loss</th>\n",
              "      <th>time</th>\n",
              "    </tr>\n",
              "  </thead>\n",
              "  <tbody>\n",
              "    <tr>\n",
              "      <td>0</td>\n",
              "      <td>2.344581</td>\n",
              "      <td>#na#</td>\n",
              "      <td>00:00</td>\n",
              "    </tr>\n",
              "  </tbody>\n",
              "</table><p>\n",
              "\n",
              "    <div>\n",
              "        <style>\n",
              "            /* Turns off some styling */\n",
              "            progress {\n",
              "                /* gets rid of default border in Firefox and Opera. */\n",
              "                border: none;\n",
              "                /* Needs to be in here for Safari polyfill so background images work as expected. */\n",
              "                background-size: auto;\n",
              "            }\n",
              "            .progress-bar-interrupted, .progress-bar-interrupted::-webkit-progress-bar {\n",
              "                background: #F44336;\n",
              "            }\n",
              "        </style>\n",
              "      <progress value='16' class='' max='75' style='width:300px; height:20px; vertical-align: middle;'></progress>\n",
              "      21.33% [16/75 00:00<00:00 2.8644]\n",
              "    </div>\n",
              "    "
            ],
            "text/plain": [
              "<IPython.core.display.HTML object>"
            ]
          },
          "metadata": {
            "tags": []
          }
        },
        {
          "output_type": "stream",
          "text": [
            "LR Finder is complete, type {learner_name}.recorder.plot() to see the graph.\n"
          ],
          "name": "stdout"
        },
        {
          "output_type": "display_data",
          "data": {
            "image/png": "[encoded data removed]",
            "text/plain": [
              "<Figure size 432x288 with 1 Axes>"
            ]
          },
          "metadata": {
            "tags": [],
            "needs_background": "light"
          }
        }
      ]
    },
    {
      "cell_type": "markdown",
      "metadata": {
        "id": "LahRs9Wzk1AG",
        "colab_type": "text"
      },
      "source": [
        "When we call `recorder_plot`, we can see the graph with the learning rate on the x-axis and the loss on the y-axis.\n",
        "\n",
        "The learning rate you should choose is ten times less than the lowest loss OR the learning rate where the graph is the steepest (which is what we want, we want the loss to decrease as fast as possible). \n",
        "\n",
        "Whenever you work with neural networks, its important to try things out and see what works better. There are two options for choosing the initial learning rate, so be sure to try both of them and see which one results in the lowest loss after training. "
      ]
    },
    {
      "cell_type": "markdown",
      "metadata": {
        "id": "4dy-GM3GBQam",
        "colab_type": "text"
      },
      "source": [
        "###Training the neural network\n",
        "We then call `fit_one_cycle` on our `learn` object to begin training (remember the `learn` object is essentially our model.) The two parameters we give the method are the number of epochs 5, which is how many times we want the model to go through the entire dataset, and the learning rate 5e-3, which is shorthand for 5 * 10^-3. \n",
        "\n",
        "You can also call the `fit` method, which trains your model with a constant learning rate, but we will discuss what is special about `fit_one_cycle`. \n",
        "\n",
        "The `fit_one_cycle` method will vary the learning rate throughout training, which the **maximum learning rate** being the parameter you gave and a **lower learning rate** which is ten times smaller than that. \n",
        "\n",
        "The \"cycle\" will begin with the lower learning rate, increase to the maximum learning rate and then decrease to a final minimum learning rate which is several ten times smaller than the maximum learning rate. \n",
        "\n",
        "Varying the learning rate this way, especially increasing the learning rate in the middle of training, is a **regularization method** to prevent overfitting. \n"
      ]
    },
    {
      "cell_type": "code",
      "metadata": {
        "id": "Yflq3JMGhnim",
        "colab_type": "code",
        "outputId": "538d287d-3414-45a4-92c6-334fc602659c",
        "colab": {
          "base_uri": "https://localhost:8080/",
          "height": 197
        }
      },
      "source": [
        "#CODE BELOW IS FULLY CREDITED TO FASTAI (fast.ai)\n",
        "#USED ONLY FOR EDUCATIONAL PURPOSES UNDER FAIR USE\n",
        "\n",
        "learn.fit_one_cycle(5, 5e-3)"
      ],
      "execution_count": 0,
      "outputs": [
        {
          "output_type": "display_data",
          "data": {
            "text/html": [
              "<table border=\"1\" class=\"dataframe\">\n",
              "  <thead>\n",
              "    <tr style=\"text-align: left;\">\n",
              "      <th>epoch</th>\n",
              "      <th>train_loss</th>\n",
              "      <th>valid_loss</th>\n",
              "      <th>time</th>\n",
              "    </tr>\n",
              "  </thead>\n",
              "  <tbody>\n",
              "    <tr>\n",
              "      <td>0</td>\n",
              "      <td>0.605233</td>\n",
              "      <td>0.676615</td>\n",
              "      <td>00:00</td>\n",
              "    </tr>\n",
              "    <tr>\n",
              "      <td>1</td>\n",
              "      <td>0.618779</td>\n",
              "      <td>0.671308</td>\n",
              "      <td>00:00</td>\n",
              "    </tr>\n",
              "    <tr>\n",
              "      <td>2</td>\n",
              "      <td>0.595027</td>\n",
              "      <td>0.642238</td>\n",
              "      <td>00:00</td>\n",
              "    </tr>\n",
              "    <tr>\n",
              "      <td>3</td>\n",
              "      <td>0.540065</td>\n",
              "      <td>0.641386</td>\n",
              "      <td>00:00</td>\n",
              "    </tr>\n",
              "    <tr>\n",
              "      <td>4</td>\n",
              "      <td>0.496917</td>\n",
              "      <td>0.639200</td>\n",
              "      <td>00:00</td>\n",
              "    </tr>\n",
              "  </tbody>\n",
              "</table>"
            ],
            "text/plain": [
              "<IPython.core.display.HTML object>"
            ]
          },
          "metadata": {
            "tags": []
          }
        }
      ]
    },
    {
      "cell_type": "markdown",
      "metadata": {
        "id": "PLFYM9QCR3Ev",
        "colab_type": "text"
      },
      "source": [
        "###Predicting using the neural network\n",
        "Now that the model finished training through 5 epochs, we can look at how accurate the model can predict given a movie. Remember that `ratings` is a panda dataframe, and we are indexing into the dataframe like an array with brackets. \n",
        "\n",
        "We will take the first data point in the dataset. The target value for that specific movie is given in the last line. "
      ]
    },
    {
      "cell_type": "code",
      "metadata": {
        "id": "_oBJ_JgJh5lk",
        "colab_type": "code",
        "outputId": "743a8603-e5c3-4426-c940-754994d02456",
        "colab": {
          "base_uri": "https://localhost:8080/",
          "height": 33
        }
      },
      "source": [
        "#CODE BELOW IS FULLY CREDITED TO FASTAI (fast.ai)\n",
        "#USED ONLY FOR EDUCATIONAL PURPOSES UNDER FAIR USE\n",
        "\n",
        "ratings.iloc[0]\n",
        "ratings.iloc[0]['rating']"
      ],
      "execution_count": 0,
      "outputs": [
        {
          "output_type": "execute_result",
          "data": {
            "text/plain": [
              "3.5"
            ]
          },
          "metadata": {
            "tags": []
          },
          "execution_count": 16
        }
      ]
    },
    {
      "cell_type": "markdown",
      "metadata": {
        "id": "s7L1EtPwSNY4",
        "colab_type": "text"
      },
      "source": [
        "In order to predict what the model will output, we call `predict` method and pass in the characteristics of the dataset. Our model is preforming well, as the prediction is close to the target value. "
      ]
    },
    {
      "cell_type": "code",
      "metadata": {
        "id": "cWQOdJiihxKP",
        "colab_type": "code",
        "outputId": "c1378036-6fbf-4205-b273-da4f75ed7fcd",
        "colab": {
          "base_uri": "https://localhost:8080/",
          "height": 33
        }
      },
      "source": [
        "#CODE BELOW IS FULLY CREDITED TO FASTAI (fast.ai)\n",
        "#USED ONLY FOR EDUCATIONAL PURPOSES UNDER FAIR USE\n",
        "\n",
        "learn.predict(ratings.iloc[0])"
      ],
      "execution_count": 0,
      "outputs": [
        {
          "output_type": "execute_result",
          "data": {
            "text/plain": [
              "(FloatItem 3.5449262, tensor(3.5449), tensor(3.5449))"
            ]
          },
          "metadata": {
            "tags": []
          },
          "execution_count": 14
        }
      ]
    },
    {
      "cell_type": "markdown",
      "metadata": {
        "id": "L8kmzI6qSvxO",
        "colab_type": "text"
      },
      "source": [
        "###Saving the model\n",
        "\n",
        "We can save the weights to our model by calling `save` and passing in the name we want to give our model after training. \n",
        "\n",
        "This way, we have the option to store our weights after training and we will not have to train our model all over again. \n",
        "\n",
        "Because we can save the weights of our models, we can also load pre-trained models. Pre-trained models give efficiency to programmers so they do not need to train models from scratch and can instead tune these pre-trained models for other projects. "
      ]
    },
    {
      "cell_type": "code",
      "metadata": {
        "id": "J4agsLG8k6KT",
        "colab_type": "code",
        "colab": {}
      },
      "source": [
        "#CODE BELOW IS FULLY CREDITED TO FASTAI (fast.ai)\n",
        "#USED ONLY FOR EDUCATIONAL PURPOSES UNDER FAIR USE\n",
        "\n",
        "learn.save('dotprod')"
      ],
      "execution_count": 0,
      "outputs": []
    },
    {
      "cell_type": "markdown",
      "metadata": {
        "id": "VSqpMKDd2ViX",
        "colab_type": "text"
      },
      "source": [
        "#Tabular data\n",
        "As explained in the previous notebook, tabular data is any data which can be arranged in a table and is often data which you see in the real world (besides pictures). \n",
        "\n",
        "Using the `fastai.tabular` section of the `fastai` library, we will predict whether someone's salary is greater than or less than $50,000 based on their characteristics, such as their race, age, education, relationship status and more. \n",
        "\n",
        "The following code block will load in the data to a `Databunch`(the same from the previous notebook), and the following blocks will explain how to actually create a neural network. "
      ]
    },
    {
      "cell_type": "code",
      "metadata": {
        "id": "9XBCGmSq15sy",
        "colab_type": "code",
        "outputId": "7dd0f64e-f0d9-4e35-fcf6-578aae2fb2f0",
        "colab": {
          "base_uri": "https://localhost:8080/",
          "height": 651
        }
      },
      "source": [
        "#CODE BELOW IS FULLY CREDITED TO FASTAI (fast.ai)\n",
        "#USED ONLY FOR EDUCATIONAL PURPOSES UNDER FAIR USE\n",
        "\n",
        "from fastai.tabular import *\n",
        "path = untar_data(URLs.ADULT_SAMPLE)\n",
        "print(path)\n",
        "df = pd.read_csv(path/'adult.csv')\n",
        "dep_var = 'salary'\n",
        "cat_names = ['workclass', 'education', 'marital-status',\n",
        "             'occupation', 'relationship', 'race']\n",
        "cont_names = ['age', 'fnlwgt', 'education-num']\n",
        "procs = [FillMissing, Categorify, Normalize]  \n",
        "\n",
        "data = (TabularList.from_df(df, path=path, cat_names=cat_names, cont_names=cont_names, procs=procs)\n",
        "                           .split_by_idx(list(range(800,1000)))\n",
        "                           .label_from_df(cols=dep_var)\n",
        "                           .databunch())\n",
        "data.show_batch(rows=10)"
      ],
      "execution_count": 0,
      "outputs": [
        {
          "output_type": "stream",
          "text": [
            "Downloading http://files.fast.ai/data/examples/adult_sample\n"
          ],
          "name": "stdout"
        },
        {
          "output_type": "display_data",
          "data": {
            "text/html": [
              ""
            ],
            "text/plain": [
              "<IPython.core.display.HTML object>"
            ]
          },
          "metadata": {
            "tags": []
          }
        },
        {
          "output_type": "stream",
          "text": [
            "/root/.fastai/data/adult_sample\n"
          ],
          "name": "stdout"
        },
        {
          "output_type": "display_data",
          "data": {
            "text/html": [
              "<table border=\"1\" class=\"dataframe\">\n",
              "  <thead>\n",
              "    <tr style=\"text-align: right;\">\n",
              "      <th>workclass</th>\n",
              "      <th>education</th>\n",
              "      <th>marital-status</th>\n",
              "      <th>occupation</th>\n",
              "      <th>relationship</th>\n",
              "      <th>race</th>\n",
              "      <th>education-num_na</th>\n",
              "      <th>age</th>\n",
              "      <th>fnlwgt</th>\n",
              "      <th>education-num</th>\n",
              "      <th>target</th>\n",
              "    </tr>\n",
              "  </thead>\n",
              "  <tbody>\n",
              "    <tr>\n",
              "      <td>Private</td>\n",
              "      <td>HS-grad</td>\n",
              "      <td>Married-civ-spouse</td>\n",
              "      <td>Craft-repair</td>\n",
              "      <td>Husband</td>\n",
              "      <td>White</td>\n",
              "      <td>False</td>\n",
              "      <td>-0.1163</td>\n",
              "      <td>-0.2073</td>\n",
              "      <td>-0.4224</td>\n",
              "      <td>&lt;50k</td>\n",
              "    </tr>\n",
              "    <tr>\n",
              "      <td>Private</td>\n",
              "      <td>Some-college</td>\n",
              "      <td>Never-married</td>\n",
              "      <td>Other-service</td>\n",
              "      <td>Not-in-family</td>\n",
              "      <td>White</td>\n",
              "      <td>False</td>\n",
              "      <td>-0.5561</td>\n",
              "      <td>0.2712</td>\n",
              "      <td>-0.0312</td>\n",
              "      <td>&lt;50k</td>\n",
              "    </tr>\n",
              "    <tr>\n",
              "      <td>Private</td>\n",
              "      <td>11th</td>\n",
              "      <td>Married-civ-spouse</td>\n",
              "      <td>Craft-repair</td>\n",
              "      <td>Husband</td>\n",
              "      <td>White</td>\n",
              "      <td>False</td>\n",
              "      <td>0.7632</td>\n",
              "      <td>-1.2120</td>\n",
              "      <td>-1.2046</td>\n",
              "      <td>&lt;50k</td>\n",
              "    </tr>\n",
              "    <tr>\n",
              "      <td>Private</td>\n",
              "      <td>9th</td>\n",
              "      <td>Married-civ-spouse</td>\n",
              "      <td>Transport-moving</td>\n",
              "      <td>Husband</td>\n",
              "      <td>White</td>\n",
              "      <td>False</td>\n",
              "      <td>0.1769</td>\n",
              "      <td>0.9912</td>\n",
              "      <td>-1.9869</td>\n",
              "      <td>&lt;50k</td>\n",
              "    </tr>\n",
              "    <tr>\n",
              "      <td>Private</td>\n",
              "      <td>HS-grad</td>\n",
              "      <td>Separated</td>\n",
              "      <td>Adm-clerical</td>\n",
              "      <td>Unmarried</td>\n",
              "      <td>White</td>\n",
              "      <td>False</td>\n",
              "      <td>-0.7027</td>\n",
              "      <td>1.4084</td>\n",
              "      <td>-0.4224</td>\n",
              "      <td>&lt;50k</td>\n",
              "    </tr>\n",
              "    <tr>\n",
              "      <td>Private</td>\n",
              "      <td>HS-grad</td>\n",
              "      <td>Never-married</td>\n",
              "      <td>Adm-clerical</td>\n",
              "      <td>Not-in-family</td>\n",
              "      <td>Other</td>\n",
              "      <td>False</td>\n",
              "      <td>-1.2158</td>\n",
              "      <td>-0.3915</td>\n",
              "      <td>-0.4224</td>\n",
              "      <td>&lt;50k</td>\n",
              "    </tr>\n",
              "    <tr>\n",
              "      <td>Private</td>\n",
              "      <td>Assoc-voc</td>\n",
              "      <td>Never-married</td>\n",
              "      <td>Other-service</td>\n",
              "      <td>Own-child</td>\n",
              "      <td>White</td>\n",
              "      <td>False</td>\n",
              "      <td>-1.1425</td>\n",
              "      <td>1.5405</td>\n",
              "      <td>0.3599</td>\n",
              "      <td>&lt;50k</td>\n",
              "    </tr>\n",
              "    <tr>\n",
              "      <td>Private</td>\n",
              "      <td>HS-grad</td>\n",
              "      <td>Married-civ-spouse</td>\n",
              "      <td>Adm-clerical</td>\n",
              "      <td>Wife</td>\n",
              "      <td>White</td>\n",
              "      <td>False</td>\n",
              "      <td>-0.1163</td>\n",
              "      <td>-1.1594</td>\n",
              "      <td>-0.4224</td>\n",
              "      <td>&gt;=50k</td>\n",
              "    </tr>\n",
              "    <tr>\n",
              "      <td>Private</td>\n",
              "      <td>Some-college</td>\n",
              "      <td>Never-married</td>\n",
              "      <td>Sales</td>\n",
              "      <td>Own-child</td>\n",
              "      <td>White</td>\n",
              "      <td>False</td>\n",
              "      <td>-1.4357</td>\n",
              "      <td>0.0104</td>\n",
              "      <td>-0.0312</td>\n",
              "      <td>&lt;50k</td>\n",
              "    </tr>\n",
              "    <tr>\n",
              "      <td>Private</td>\n",
              "      <td>12th</td>\n",
              "      <td>Married-civ-spouse</td>\n",
              "      <td>Craft-repair</td>\n",
              "      <td>Husband</td>\n",
              "      <td>White</td>\n",
              "      <td>False</td>\n",
              "      <td>1.8627</td>\n",
              "      <td>0.6671</td>\n",
              "      <td>-0.8135</td>\n",
              "      <td>&lt;50k</td>\n",
              "    </tr>\n",
              "  </tbody>\n",
              "</table>"
            ],
            "text/plain": [
              "<IPython.core.display.HTML object>"
            ]
          },
          "metadata": {
            "tags": []
          }
        }
      ]
    },
    {
      "cell_type": "markdown",
      "metadata": {
        "id": "DXvBKULsVrS2",
        "colab_type": "text"
      },
      "source": [
        "In this panda dataframe, all the columns except the last column to the right are what will be passed into the neural network. \n",
        "\n",
        "The last column `target` is what our model is trying to predict, whether the person has a salary greater than (`<50k`) or less than (`>=50k`) $50,000. "
      ]
    },
    {
      "cell_type": "markdown",
      "metadata": {
        "id": "N74Gat7SWLT1",
        "colab_type": "text"
      },
      "source": [
        "###Creating the neural network\n",
        "We can create a `Learner` object called `learn` with the `tabular_learner` method. The parameters are the `data` DataBunch object, the number of neurons in each hidden layer in the `layers` parameter which is a list with the first number corresponding to the number of neurons in the first hidden layer and so on, and the `metrics` which we want to print out (we will be able to see the accuracy of how our model is predicting). \n",
        "\n"
      ]
    },
    {
      "cell_type": "code",
      "metadata": {
        "id": "R44C-9V518aU",
        "colab_type": "code",
        "colab": {}
      },
      "source": [
        "#CODE BELOW IS FULLY CREDITED TO FASTAI (fast.ai)\n",
        "#USED ONLY FOR EDUCATIONAL PURPOSES UNDER FAIR USE\n",
        "\n",
        "learn = tabular_learner(data, layers=[200,100], metrics=accuracy)"
      ],
      "execution_count": 0,
      "outputs": []
    },
    {
      "cell_type": "markdown",
      "metadata": {
        "id": "UHV3Y23vb9L9",
        "colab_type": "text"
      },
      "source": [
        "By calling `learn.model`, we can see what is actually inside our model after we define it. (expand more on embeddings later)"
      ]
    },
    {
      "cell_type": "code",
      "metadata": {
        "id": "LOKN6KQdWhO1",
        "colab_type": "code",
        "outputId": "00604b2e-74ff-48bd-c598-338a4ccd7111",
        "colab": {
          "base_uri": "https://localhost:8080/",
          "height": 403
        }
      },
      "source": [
        "#CODE BELOW IS FULLY CREDITED TO FASTAI (fast.ai)\n",
        "#USED ONLY FOR EDUCATIONAL PURPOSES UNDER FAIR USE\n",
        "\n",
        "learn.model"
      ],
      "execution_count": 0,
      "outputs": [
        {
          "output_type": "execute_result",
          "data": {
            "text/plain": [
              "TabularModel(\n",
              "  (embeds): ModuleList(\n",
              "    (0): Embedding(10, 6)\n",
              "    (1): Embedding(17, 8)\n",
              "    (2): Embedding(8, 5)\n",
              "    (3): Embedding(16, 8)\n",
              "    (4): Embedding(7, 5)\n",
              "    (5): Embedding(6, 4)\n",
              "    (6): Embedding(3, 3)\n",
              "  )\n",
              "  (emb_drop): Dropout(p=0.0, inplace=False)\n",
              "  (bn_cont): BatchNorm1d(3, eps=1e-05, momentum=0.1, affine=True, track_running_stats=True)\n",
              "  (layers): Sequential(\n",
              "    (0): Linear(in_features=42, out_features=200, bias=True)\n",
              "    (1): ReLU(inplace=True)\n",
              "    (2): BatchNorm1d(200, eps=1e-05, momentum=0.1, affine=True, track_running_stats=True)\n",
              "    (3): Linear(in_features=200, out_features=100, bias=True)\n",
              "    (4): ReLU(inplace=True)\n",
              "    (5): BatchNorm1d(100, eps=1e-05, momentum=0.1, affine=True, track_running_stats=True)\n",
              "    (6): Linear(in_features=100, out_features=2, bias=True)\n",
              "  )\n",
              ")"
            ]
          },
          "metadata": {
            "tags": []
          },
          "execution_count": 11
        }
      ]
    },
    {
      "cell_type": "markdown",
      "metadata": {
        "id": "h53hY0q7WM1o",
        "colab_type": "text"
      },
      "source": [
        "##Finding learning rate\n",
        "Again, we can find the learning rate best by either choosing the learning rate with the steepest slope or ten times less than the learning rate with the lowest loss. "
      ]
    },
    {
      "cell_type": "code",
      "metadata": {
        "id": "r5B7SGHzUTwP",
        "colab_type": "code",
        "outputId": "050e1d8f-c69c-4177-947e-d5589cc67fae",
        "colab": {
          "base_uri": "https://localhost:8080/",
          "height": 372
        }
      },
      "source": [
        "#CODE BELOW IS FULLY CREDITED TO FASTAI (fast.ai)\n",
        "#USED ONLY FOR EDUCATIONAL PURPOSES UNDER FAIR USE\n",
        "\n",
        "learn.lr_find()\n",
        "learn.recorder.plot()"
      ],
      "execution_count": 0,
      "outputs": [
        {
          "output_type": "display_data",
          "data": {
            "text/html": [
              "\n",
              "    <div>\n",
              "        <style>\n",
              "            /* Turns off some styling */\n",
              "            progress {\n",
              "                /* gets rid of default border in Firefox and Opera. */\n",
              "                border: none;\n",
              "                /* Needs to be in here for Safari polyfill so background images work as expected. */\n",
              "                background-size: auto;\n",
              "            }\n",
              "            .progress-bar-interrupted, .progress-bar-interrupted::-webkit-progress-bar {\n",
              "                background: #F44336;\n",
              "            }\n",
              "        </style>\n",
              "      <progress value='0' class='' max='1' style='width:300px; height:20px; vertical-align: middle;'></progress>\n",
              "      0.00% [0/1 00:00<00:00]\n",
              "    </div>\n",
              "    \n",
              "<table border=\"1\" class=\"dataframe\">\n",
              "  <thead>\n",
              "    <tr style=\"text-align: left;\">\n",
              "      <th>epoch</th>\n",
              "      <th>train_loss</th>\n",
              "      <th>valid_loss</th>\n",
              "      <th>accuracy</th>\n",
              "      <th>time</th>\n",
              "    </tr>\n",
              "  </thead>\n",
              "  <tbody>\n",
              "  </tbody>\n",
              "</table><p>\n",
              "\n",
              "    <div>\n",
              "        <style>\n",
              "            /* Turns off some styling */\n",
              "            progress {\n",
              "                /* gets rid of default border in Firefox and Opera. */\n",
              "                border: none;\n",
              "                /* Needs to be in here for Safari polyfill so background images work as expected. */\n",
              "                background-size: auto;\n",
              "            }\n",
              "            .progress-bar-interrupted, .progress-bar-interrupted::-webkit-progress-bar {\n",
              "                background: #F44336;\n",
              "            }\n",
              "        </style>\n",
              "      <progress value='82' class='' max='505' style='width:300px; height:20px; vertical-align: middle;'></progress>\n",
              "      16.24% [82/505 00:01<00:06 0.6851]\n",
              "    </div>\n",
              "    "
            ],
            "text/plain": [
              "<IPython.core.display.HTML object>"
            ]
          },
          "metadata": {
            "tags": []
          }
        },
        {
          "output_type": "stream",
          "text": [
            "LR Finder is complete, type {learner_name}.recorder.plot() to see the graph.\n"
          ],
          "name": "stdout"
        },
        {
          "output_type": "display_data",
          "data": {
            "image/png": "[encoded data removed]",
            "text/plain": [
              "<Figure size 432x288 with 1 Axes>"
            ]
          },
          "metadata": {
            "tags": [],
            "needs_background": "light"
          }
        }
      ]
    },
    {
      "cell_type": "markdown",
      "metadata": {
        "id": "-NfiHD-TWRIn",
        "colab_type": "text"
      },
      "source": [
        "###Training the neural network\n",
        "This time, we will be training the model by calling the `fit` method, which trains the model through 1 epoch with a constant learning rate of 1e-2. \n",
        "\n",
        "You can see that after training, there is another column for the `accuracy` metric."
      ]
    },
    {
      "cell_type": "code",
      "metadata": {
        "id": "NaCIxKKVUYgb",
        "colab_type": "code",
        "outputId": "521b4cbe-e0ba-4164-aaa4-e2fa9be69f12",
        "colab": {
          "base_uri": "https://localhost:8080/",
          "height": 77
        }
      },
      "source": [
        "#CODE BELOW IS FULLY CREDITED TO FASTAI (fast.ai)\n",
        "#USED ONLY FOR EDUCATIONAL PURPOSES UNDER FAIR USE\n",
        "\n",
        "learn.fit(1, 1e-2)"
      ],
      "execution_count": 0,
      "outputs": [
        {
          "output_type": "display_data",
          "data": {
            "text/html": [
              "<table border=\"1\" class=\"dataframe\">\n",
              "  <thead>\n",
              "    <tr style=\"text-align: left;\">\n",
              "      <th>epoch</th>\n",
              "      <th>train_loss</th>\n",
              "      <th>valid_loss</th>\n",
              "      <th>accuracy</th>\n",
              "      <th>time</th>\n",
              "    </tr>\n",
              "  </thead>\n",
              "  <tbody>\n",
              "    <tr>\n",
              "      <td>0</td>\n",
              "      <td>0.357884</td>\n",
              "      <td>0.375222</td>\n",
              "      <td>0.825000</td>\n",
              "      <td>00:06</td>\n",
              "    </tr>\n",
              "  </tbody>\n",
              "</table>"
            ],
            "text/plain": [
              "<IPython.core.display.HTML object>"
            ]
          },
          "metadata": {
            "tags": []
          }
        }
      ]
    },
    {
      "cell_type": "markdown",
      "metadata": {
        "id": "DjcwpCMbcHbG",
        "colab_type": "text"
      },
      "source": [
        "###Predicting using the neural network\n",
        "Now we can try testing how well our model can predict whether someone's salary is greater than or less than $50,000. \n",
        "\n",
        "Remember that `df` was our pandas dataframe. We read the first datapoint in the dataset by indexing into the dataframe like an array and by calling `iloc`. \n",
        "\n",
        "We want our model to predict given the first datapoint, that the person makes a salary greater than $50,000 (>=50k). "
      ]
    },
    {
      "cell_type": "code",
      "metadata": {
        "id": "Wbo5fCtFUZ4q",
        "colab_type": "code",
        "outputId": "99f62a69-39e7-4221-ec9c-b2d96fe3447e",
        "colab": {
          "base_uri": "https://localhost:8080/",
          "height": 300
        }
      },
      "source": [
        "#CODE BELOW IS FULLY CREDITED TO FASTAI (fast.ai)\n",
        "#USED ONLY FOR EDUCATIONAL PURPOSES UNDER FAIR USE\n",
        "\n",
        "row = df.iloc[0]\n",
        "print(row)\n",
        "print(\"What we are trying to predict: \", row['salary'])"
      ],
      "execution_count": 0,
      "outputs": [
        {
          "output_type": "stream",
          "text": [
            "age                                49\n",
            "workclass                     Private\n",
            "fnlwgt                         101320\n",
            "education                  Assoc-acdm\n",
            "education-num                      12\n",
            "marital-status     Married-civ-spouse\n",
            "occupation                        NaN\n",
            "relationship                     Wife\n",
            "race                            White\n",
            "sex                            Female\n",
            "capital-gain                        0\n",
            "capital-loss                     1902\n",
            "hours-per-week                     40\n",
            "native-country          United-States\n",
            "salary                          >=50k\n",
            "Name: 0, dtype: object\n",
            "What we are trying to predict:  >=50k\n"
          ],
          "name": "stdout"
        }
      ]
    },
    {
      "cell_type": "markdown",
      "metadata": {
        "id": "KC8Fj8yhdDc4",
        "colab_type": "text"
      },
      "source": [
        "Similar to how we predicted with collaborative filtering, we can use our model to predict the outcome by calling the `predict` method. We passed in the object `row`, which is the first datapoint in the pandas dataframe `df`.\n",
        "\n",
        "The model did in fact predict that the person has a salary greater than $50,000. "
      ]
    },
    {
      "cell_type": "code",
      "metadata": {
        "id": "zzioyM-aUcp7",
        "colab_type": "code",
        "outputId": "4505709c-1af2-403d-c906-1729d186db63",
        "colab": {
          "base_uri": "https://localhost:8080/",
          "height": 33
        }
      },
      "source": [
        "#CODE BELOW IS FULLY CREDITED TO FASTAI (fast.ai)\n",
        "#USED ONLY FOR EDUCATIONAL PURPOSES UNDER FAIR USE\n",
        "\n",
        "learn.predict(row)"
      ],
      "execution_count": 0,
      "outputs": [
        {
          "output_type": "execute_result",
          "data": {
            "text/plain": [
              "(Category >=50k, tensor(1), tensor([0.3992, 0.6008]))"
            ]
          },
          "metadata": {
            "tags": []
          },
          "execution_count": 10
        }
      ]
    }
  ]
}