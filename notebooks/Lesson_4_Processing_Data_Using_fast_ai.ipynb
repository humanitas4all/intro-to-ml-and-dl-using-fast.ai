{
  "nbformat": 4,
  "nbformat_minor": 0,
  "metadata": {
    "colab": {
      "name": "Lesson 4 - Processing Data Using fast.ai",
      "provenance": [],
      "authorship_tag": "ABX9TyMheg3rfQcDraTV4S0YTXTO",
      "include_colab_link": true
    },
    "kernelspec": {
      "name": "python3",
      "display_name": "Python 3"
    }
  },
  "cells": [
    {
      "cell_type": "markdown",
      "metadata": {
        "id": "view-in-github",
        "colab_type": "text"
      },
      "source": [
        "<a href=\"https://colab.research.google.com/github/marianqian/Intro-to-ML-and-DL-Using-fast.ai/blob/master/notebooks/Lesson_4_Processing_Data_Using_fast_ai.ipynb\" target=\"_parent\"><img src=\"https://colab.research.google.com/assets/colab-badge.svg\" alt=\"Open In Colab\"/></a>"
      ]
    },
    {
      "cell_type": "markdown",
      "metadata": {
        "id": "7K63lTIYmJEH",
        "colab_type": "text"
      },
      "source": [
        "Welcome to the AI Academy! This is the fourth lesson, focused on learning how to use the fast.ai library to process in data from different sources. [fastai](https://www.fast.ai/) is an extremely easy to use library with several deep learning capabilities and is built on top of PyTorch, which we used in the previous Google Colab notebook. \n",
        "\n",
        "You can learn more about fastai [here](https://docs.fast.ai/); the library is split between four different parts, which are vision, text, tabular, and collab models. fastai focuses on neural networks, and for the rest of the course we will be exploring how to use this library. \n",
        "\n",
        "The creater of fastai, Jeremy Howard, also taught a course explaining how to use the library and introduces deep learning to those who have no experience with it before. We highly recommend you to look at his videos linked [here](https://course.fast.ai/videos/?lesson=1) when you have the time. \n",
        "\n",
        "NOTE: Educational use and distribution is permitted, but credit and attribution to AIM Academy is required. \n"
      ]
    },
    {
      "cell_type": "markdown",
      "metadata": {
        "id": "FlY38rlVmh8M",
        "colab_type": "text"
      },
      "source": [
        "#Learning Objectives\n",
        "\n",
        "* Learn about what is fastai\n",
        "* Understand how to process and load in data\n",
        "* Understand what datablocks and databunches are\n",
        "* Understand how to read in data in different ways\n",
        "\n",
        "\n"
      ]
    },
    {
      "cell_type": "markdown",
      "metadata": {
        "id": "RVnNzJ7yB7Dl",
        "colab_type": "text"
      },
      "source": [
        "The data that is used for training neural networks is often collected from the real world. The fastai library contains datasets separated into labelled training and testing data for you, so all you need to do is call load them into your code, and this notebook will show you how. \n",
        "\n"
      ]
    },
    {
      "cell_type": "markdown",
      "metadata": {
        "id": "4coxeqK0_qE6",
        "colab_type": "text"
      },
      "source": [
        "The [**data block API**](https://docs.fast.ai/data_block.html) is structured to handle organizing the data to pass into the neural network found only in fastai. A **[`Databunch`](https://docs.fast.ai/basic_data.html#DataBunch)** is what is passed directly into the neural network itself, and it contains the training and testing sets. The training and testing sets are [`Dataloaders`](https://pytorch.org/docs/stable/data.html#torch.utils.data.DataLoader) (data structures in PyTorch). Sometimes data augmentation is applied, which is essentially changing the existing data slightly in order to generate more data for the model to train on. "
      ]
    },
    {
      "cell_type": "markdown",
      "metadata": {
        "id": "oRCJaWrOsGjW",
        "colab_type": "text"
      },
      "source": [
        "#Tabular data\n",
        "**We will be reading in information about people in order to predict their whether their salaries are greater or less than $50,000.**\n",
        "When we train a neural network to solve a problem, there are can be many ways for the data, or traning examples, to be formatted in. Sometimes they are in individual folders, sometimes the data is located in a spreadsheet, and other times the data requires us to modify the labels in order for our neural network to work. \n",
        "\n",
        "In this notebook, we will introduce the different ways and structures we can read in data. First, we will import the tabular section of fastai by calling `fastai.tabular`. [Tabular](https://www.merriam-webster.com/dictionary/tabular) data is data which is arranged in a table, \"set up in rows and columns\". It is usually the most common type of data which you will come across on; for example, using prices of houses to determine the sizes of the houses is tabular data. Tabular data can be numbers, or words which represent categories."
      ]
    },
    {
      "cell_type": "code",
      "metadata": {
        "id": "nDqdzw_ml_WZ",
        "colab_type": "code",
        "colab": {}
      },
      "source": [
        "from fastai.tabular import *"
      ],
      "execution_count": 0,
      "outputs": []
    },
    {
      "cell_type": "markdown",
      "metadata": {
        "id": "hivW5h0GAAPE",
        "colab_type": "text"
      },
      "source": [
        "##Reading in data\n",
        "The `path` variable contains the file path to where the data is stored, which is outputted as `/root/.fastai/data/adult_sample`. Notice that different types of datasets are located at different URL names (some include URLs. PLANET_TINY and URLs.MNIST_TINY, which are images instead of tabular data). \n"
      ]
    },
    {
      "cell_type": "code",
      "metadata": {
        "id": "q6C82UiZ7Seb",
        "colab_type": "code",
        "outputId": "2b7c0487-07b6-4f74-ce45-3cd630d36ebc",
        "colab": {
          "base_uri": "https://localhost:8080/",
          "height": 52
        }
      },
      "source": [
        "#CODE BELOW IS FULLY CREDITED TO FASTAI (fast.ai)\n",
        "#USED ONLY FOR EDUCATIONAL PURPOSES UNDER FAIR USE\n",
        "\n",
        "path = untar_data(URLs.ADULT_SAMPLE)\n",
        "print(path)\n"
      ],
      "execution_count": 0,
      "outputs": [
        {
          "output_type": "stream",
          "text": [
            "/root/.fastai/data/adult_sample\n"
          ],
          "name": "stdout"
        },
        {
          "output_type": "execute_result",
          "data": {
            "text/plain": [
              "module"
            ]
          },
          "metadata": {
            "tags": []
          },
          "execution_count": 10
        }
      ]
    },
    {
      "cell_type": "markdown",
      "metadata": {
        "id": "RU-0KzfThTv5",
        "colab_type": "text"
      },
      "source": [
        "In the second line, we call the **pandas** library, which is another Python library for handling data. We did not have to call `import pandas` because the pandas library was already imported when we called `from fastai.tabular import *`. As you can see, fastai contains many capabilities! \n",
        "\n",
        "The method `read_csv` was called from the pandas library, which was shortened to `pd`. The parameter that was passed inside the method was `path/'adult.csv'`, which located the file `adult.csv` inside the file path that led to a folder from the `path` variable. `read_csv` read the contents inside the CSV file and now we can access what was inside the data through a **dataframe**. \n",
        "\n",
        "Dataframes are structures that are defined in the pandas library and are very similar to numpy arrays but is a table of values instead. \n",
        "\n",
        "Note that CSV file means a comma comma separated file, which is essentially a condensed version of an Excel or Google spreadsheet. "
      ]
    },
    {
      "cell_type": "code",
      "metadata": {
        "id": "kX5kCqrOhRFv",
        "colab_type": "code",
        "colab": {}
      },
      "source": [
        "#CODE BELOW IS FULLY CREDITED TO FASTAI (fast.ai)\n",
        "#USED ONLY FOR EDUCATIONAL PURPOSES UNDER FAIR USE\n",
        "\n",
        "df = pd.read_csv(path/'adult.csv')"
      ],
      "execution_count": 0,
      "outputs": []
    },
    {
      "cell_type": "markdown",
      "metadata": {
        "id": "yshopyXNFQx7",
        "colab_type": "text"
      },
      "source": [
        "In the next code-block, the names of the data are defined, including the names for dependent and independent variables, which are further sorted into categorical, and continuous variables. \n",
        "\n",
        "Categorical variables often have text defining what they are. For instance, color is a categorical variable, so the data in that category would be `blue`, `red`, and `green`. These will be replaced by numbers for the neural network, meaning that `1` will replace `blue`, `2` will replace `red`, and `3` will replace `green`. \n",
        "\n",
        "These names will be used to identify what a piece of data means inside the file we are trying to read with `read_csv`. "
      ]
    },
    {
      "cell_type": "code",
      "metadata": {
        "id": "lQCgjmhP7Sra",
        "colab_type": "code",
        "colab": {}
      },
      "source": [
        "#CODE BELOW IS FULLY CREDITED TO FASTAI (fast.ai)\n",
        "#USED ONLY FOR EDUCATIONAL PURPOSES UNDER FAIR USE\n",
        "\n",
        "dep_var = 'salary'                                          #dependent variable - what we are trying to predict\n",
        "\n",
        "cat_names = ['workclass', 'education', 'marital-status',    #independent categorical variables -  x-variables which are separated into categories\n",
        "            'occupation', 'relationship', 'race']\n",
        "\n",
        "cont_names = ['age', 'fnlwgt', 'education-num']             #independent continuous variables - x-variables which do not have specific categories\n",
        "\n",
        "procs = [FillMissing, Categorify, Normalize]                '''pre-processers - we need to change the data so that nothing is missing \n",
        "                                                            (fill in missing data values, \n",
        "                                                            change the categorical variables into numbers so that the neural network \n",
        "                                                            can do calculat with them, \n",
        "                                                            and normalize the data so there are not very small or large values in the data)'''"
      ],
      "execution_count": 0,
      "outputs": []
    },
    {
      "cell_type": "markdown",
      "metadata": {
        "id": "7X1uUX0gCGal",
        "colab_type": "text"
      },
      "source": [
        "Here, we are calling several different methods in order to turn the information from the `df` pandas dataframe into information we can pass directly into a fastai neural network. \n",
        "\n",
        "`TabularList` is a class imported from `fastai.tabular` and is a subclass of `ItemList`, which contains data and their labels. \n",
        "\n",
        "The data comes from a dataframe, which is why we call `from_df` and pass in the independent categorical and continuous variables. \n",
        "\n",
        "After creating a `TabularList`, we want to split the data into training and testing sets, which is done by calling `split_by_idx`. \n",
        "\n",
        "We then add labels by calling `label_from_df`, which looks at the column called 'salary' in the dataframe that was passed in the `from_df` method. The labels are the salaries of the people. \n",
        "\n",
        "Finally, after loading the data from the pandas dataframe into a `ItemList`, splitting the data for training and testing sets, and adding labels to the data, we can create a `Databunch` called `data`! We will then pass data into a neural network. \n",
        "\n"
      ]
    },
    {
      "cell_type": "code",
      "metadata": {
        "id": "sdelnr7z_2yP",
        "colab_type": "code",
        "colab": {}
      },
      "source": [
        "#CODE BELOW IS FULLY CREDITED TO FASTAI (fast.ai)\n",
        "#USED ONLY FOR EDUCATIONAL PURPOSES UNDER FAIR USE\n",
        "\n",
        "data = (TabularList.from_df(df, path=path, cat_names=cat_names, cont_names=cont_names, procs=procs)\n",
        "                            #Where are the images? in the df object, which contains data from 'adult.csv'\n",
        "                           .split_by_idx(list(range(800,1000)))\n",
        "                            #How to split training and testing sets? split them by index, with the first 200 examples to be in the testing set\n",
        "                           .label_from_df(cols=dep_var)\n",
        "                            #How to find the labels? the labels are located in the column called 'salary', which is dep_var\n",
        "                           .databunch())\n",
        "                            #Finally convert it to a Databunch"
      ],
      "execution_count": 0,
      "outputs": []
    },
    {
      "cell_type": "markdown",
      "metadata": {
        "id": "X4_YZJGiMh4C",
        "colab_type": "text"
      },
      "source": [
        "Here we call the method `show_batch` on the `data` DataBunch object to show the x and y variables. You can see the different features in the first row, and the final label is called `target`, which is the label we are trying to predict."
      ]
    },
    {
      "cell_type": "code",
      "metadata": {
        "id": "t01mKEw4_4XS",
        "colab_type": "code",
        "outputId": "ade2e6dd-8c1d-4bac-9d1e-6aff57f506c9",
        "colab": {
          "base_uri": "https://localhost:8080/",
          "height": 355
        }
      },
      "source": [
        "data.show_batch(rows=10)"
      ],
      "execution_count": 0,
      "outputs": [
        {
          "output_type": "display_data",
          "data": {
            "text/html": [
              "<table border=\"1\" class=\"dataframe\">\n",
              "  <thead>\n",
              "    <tr style=\"text-align: right;\">\n",
              "      <th>workclass</th>\n",
              "      <th>education</th>\n",
              "      <th>marital-status</th>\n",
              "      <th>occupation</th>\n",
              "      <th>relationship</th>\n",
              "      <th>race</th>\n",
              "      <th>education-num_na</th>\n",
              "      <th>age</th>\n",
              "      <th>fnlwgt</th>\n",
              "      <th>education-num</th>\n",
              "      <th>target</th>\n",
              "    </tr>\n",
              "  </thead>\n",
              "  <tbody>\n",
              "    <tr>\n",
              "      <td>Federal-gov</td>\n",
              "      <td>Doctorate</td>\n",
              "      <td>Married-civ-spouse</td>\n",
              "      <td>#na#</td>\n",
              "      <td>Husband</td>\n",
              "      <td>White</td>\n",
              "      <td>True</td>\n",
              "      <td>0.6166</td>\n",
              "      <td>-0.8244</td>\n",
              "      <td>-0.0312</td>\n",
              "      <td>&gt;=50k</td>\n",
              "    </tr>\n",
              "    <tr>\n",
              "      <td>Private</td>\n",
              "      <td>HS-grad</td>\n",
              "      <td>Divorced</td>\n",
              "      <td>Adm-clerical</td>\n",
              "      <td>Not-in-family</td>\n",
              "      <td>White</td>\n",
              "      <td>False</td>\n",
              "      <td>1.4962</td>\n",
              "      <td>0.5448</td>\n",
              "      <td>-0.4224</td>\n",
              "      <td>&lt;50k</td>\n",
              "    </tr>\n",
              "    <tr>\n",
              "      <td>Local-gov</td>\n",
              "      <td>Masters</td>\n",
              "      <td>Married-civ-spouse</td>\n",
              "      <td>Prof-specialty</td>\n",
              "      <td>Husband</td>\n",
              "      <td>White</td>\n",
              "      <td>False</td>\n",
              "      <td>0.0303</td>\n",
              "      <td>0.9226</td>\n",
              "      <td>1.5334</td>\n",
              "      <td>&gt;=50k</td>\n",
              "    </tr>\n",
              "    <tr>\n",
              "      <td>Self-emp-not-inc</td>\n",
              "      <td>Some-college</td>\n",
              "      <td>Married-civ-spouse</td>\n",
              "      <td>Exec-managerial</td>\n",
              "      <td>Husband</td>\n",
              "      <td>White</td>\n",
              "      <td>False</td>\n",
              "      <td>-0.1163</td>\n",
              "      <td>0.8793</td>\n",
              "      <td>-0.0312</td>\n",
              "      <td>&lt;50k</td>\n",
              "    </tr>\n",
              "    <tr>\n",
              "      <td>Local-gov</td>\n",
              "      <td>Bachelors</td>\n",
              "      <td>Never-married</td>\n",
              "      <td>Prof-specialty</td>\n",
              "      <td>Not-in-family</td>\n",
              "      <td>White</td>\n",
              "      <td>False</td>\n",
              "      <td>-0.4828</td>\n",
              "      <td>0.5771</td>\n",
              "      <td>1.1422</td>\n",
              "      <td>&lt;50k</td>\n",
              "    </tr>\n",
              "    <tr>\n",
              "      <td>Private</td>\n",
              "      <td>HS-grad</td>\n",
              "      <td>Married-civ-spouse</td>\n",
              "      <td>Craft-repair</td>\n",
              "      <td>Husband</td>\n",
              "      <td>White</td>\n",
              "      <td>False</td>\n",
              "      <td>-0.8493</td>\n",
              "      <td>2.0918</td>\n",
              "      <td>-0.4224</td>\n",
              "      <td>&lt;50k</td>\n",
              "    </tr>\n",
              "    <tr>\n",
              "      <td>Private</td>\n",
              "      <td>11th</td>\n",
              "      <td>Never-married</td>\n",
              "      <td>Craft-repair</td>\n",
              "      <td>Not-in-family</td>\n",
              "      <td>White</td>\n",
              "      <td>False</td>\n",
              "      <td>-1.3624</td>\n",
              "      <td>0.2801</td>\n",
              "      <td>-1.2046</td>\n",
              "      <td>&lt;50k</td>\n",
              "    </tr>\n",
              "    <tr>\n",
              "      <td>Local-gov</td>\n",
              "      <td>9th</td>\n",
              "      <td>Married-civ-spouse</td>\n",
              "      <td>Transport-moving</td>\n",
              "      <td>Husband</td>\n",
              "      <td>White</td>\n",
              "      <td>False</td>\n",
              "      <td>1.4229</td>\n",
              "      <td>-1.3792</td>\n",
              "      <td>-1.9869</td>\n",
              "      <td>&lt;50k</td>\n",
              "    </tr>\n",
              "    <tr>\n",
              "      <td>Private</td>\n",
              "      <td>Some-college</td>\n",
              "      <td>Married-civ-spouse</td>\n",
              "      <td>Sales</td>\n",
              "      <td>Husband</td>\n",
              "      <td>White</td>\n",
              "      <td>False</td>\n",
              "      <td>-0.3362</td>\n",
              "      <td>-0.7194</td>\n",
              "      <td>-0.0312</td>\n",
              "      <td>&gt;=50k</td>\n",
              "    </tr>\n",
              "    <tr>\n",
              "      <td>Private</td>\n",
              "      <td>Assoc-acdm</td>\n",
              "      <td>Married-civ-spouse</td>\n",
              "      <td>Prof-specialty</td>\n",
              "      <td>Wife</td>\n",
              "      <td>White</td>\n",
              "      <td>False</td>\n",
              "      <td>-0.1163</td>\n",
              "      <td>1.8098</td>\n",
              "      <td>0.7511</td>\n",
              "      <td>&gt;=50k</td>\n",
              "    </tr>\n",
              "  </tbody>\n",
              "</table>"
            ],
            "text/plain": [
              "<IPython.core.display.HTML object>"
            ]
          },
          "metadata": {
            "tags": []
          }
        }
      ]
    },
    {
      "cell_type": "markdown",
      "metadata": {
        "id": "UMuAxtNDPNI7",
        "colab_type": "text"
      },
      "source": [
        "https://docs.fast.ai/tabular.data.html#TabularDataBunch.from_df\n",
        "\n",
        "https://docs.fast.ai/tabular.html\n",
        "\n",
        "https://docs.fast.ai/tabular.data.html#TabularList\n",
        "\n",
        "\n"
      ]
    },
    {
      "cell_type": "markdown",
      "metadata": {
        "id": "WtvOjT_C_6Hq",
        "colab_type": "text"
      },
      "source": [
        "#Collaborative filtering\n",
        "**We will be reading in information about people's movie rating in order to predict whether they will like a given movie from a scale of 0 to 5.**\n",
        "\n",
        "In the section, we will be calling `fastai.collab`. [Collaborative filtering](https://docs.fast.ai/collab.html) is a task for \"predicting how much a user is going to like a certain item.\" The data for collaborative filtering will still consist of mostly text and numbers. "
      ]
    },
    {
      "cell_type": "code",
      "metadata": {
        "id": "itOQwhI5AXtL",
        "colab_type": "code",
        "colab": {}
      },
      "source": [
        "from fastai.collab import *"
      ],
      "execution_count": 0,
      "outputs": []
    },
    {
      "cell_type": "markdown",
      "metadata": {
        "id": "yTSVbRtjgIWC",
        "colab_type": "text"
      },
      "source": [
        "The dataset at `URLs.ML_SAMPLE` is a small section from the [MovieLens](https://grouplens.org/datasets/movielens/) dataset. The path which is printed contains the CSV file with all the data. "
      ]
    },
    {
      "cell_type": "code",
      "metadata": {
        "id": "-_1sFKcIBmR4",
        "colab_type": "code",
        "outputId": "dd2a8318-0ccf-4c42-bc8e-b881e79ddf17",
        "colab": {
          "base_uri": "https://localhost:8080/",
          "height": 51
        }
      },
      "source": [
        "#CODE BELOW IS FULLY CREDITED TO FASTAI (fast.ai)\n",
        "#USED ONLY FOR EDUCATIONAL PURPOSES UNDER FAIR USE\n",
        "\n",
        "path = untar_data(URLs.ML_SAMPLE)\n",
        "path"
      ],
      "execution_count": 0,
      "outputs": [
        {
          "output_type": "stream",
          "text": [
            "Downloading http://files.fast.ai/data/examples/movie_lens_sample\n"
          ],
          "name": "stdout"
        },
        {
          "output_type": "display_data",
          "data": {
            "text/html": [
              ""
            ],
            "text/plain": [
              "<IPython.core.display.HTML object>"
            ]
          },
          "metadata": {
            "tags": []
          }
        },
        {
          "output_type": "execute_result",
          "data": {
            "text/plain": [
              "PosixPath('/root/.fastai/data/movie_lens_sample')"
            ]
          },
          "metadata": {
            "tags": []
          },
          "execution_count": 3
        }
      ]
    },
    {
      "cell_type": "markdown",
      "metadata": {
        "id": "fk_RjuoEhBHK",
        "colab_type": "text"
      },
      "source": [
        "Here, the data is read using the pandas library again through a dataframe. Calling `ratings.head()` shows the first five examples from the dataset. "
      ]
    },
    {
      "cell_type": "code",
      "metadata": {
        "id": "pjJ9bAPQBmJl",
        "colab_type": "code",
        "outputId": "ce13cb3d-15e6-462d-c770-d606e2658178",
        "colab": {
          "base_uri": "https://localhost:8080/",
          "height": 204
        }
      },
      "source": [
        "#CODE BELOW IS FULLY CREDITED TO FASTAI (fast.ai)\n",
        "#USED ONLY FOR EDUCATIONAL PURPOSES UNDER FAIR USE\n",
        "\n",
        "ratings = pd.read_csv(path/'ratings.csv')\n",
        "ratings.head()"
      ],
      "execution_count": 0,
      "outputs": [
        {
          "output_type": "execute_result",
          "data": {
            "text/html": [
              "<div>\n",
              "<style scoped>\n",
              "    .dataframe tbody tr th:only-of-type {\n",
              "        vertical-align: middle;\n",
              "    }\n",
              "\n",
              "    .dataframe tbody tr th {\n",
              "        vertical-align: top;\n",
              "    }\n",
              "\n",
              "    .dataframe thead th {\n",
              "        text-align: right;\n",
              "    }\n",
              "</style>\n",
              "<table border=\"1\" class=\"dataframe\">\n",
              "  <thead>\n",
              "    <tr style=\"text-align: right;\">\n",
              "      <th></th>\n",
              "      <th>userId</th>\n",
              "      <th>movieId</th>\n",
              "      <th>rating</th>\n",
              "      <th>timestamp</th>\n",
              "    </tr>\n",
              "  </thead>\n",
              "  <tbody>\n",
              "    <tr>\n",
              "      <th>0</th>\n",
              "      <td>73</td>\n",
              "      <td>1097</td>\n",
              "      <td>4.0</td>\n",
              "      <td>1255504951</td>\n",
              "    </tr>\n",
              "    <tr>\n",
              "      <th>1</th>\n",
              "      <td>561</td>\n",
              "      <td>924</td>\n",
              "      <td>3.5</td>\n",
              "      <td>1172695223</td>\n",
              "    </tr>\n",
              "    <tr>\n",
              "      <th>2</th>\n",
              "      <td>157</td>\n",
              "      <td>260</td>\n",
              "      <td>3.5</td>\n",
              "      <td>1291598691</td>\n",
              "    </tr>\n",
              "    <tr>\n",
              "      <th>3</th>\n",
              "      <td>358</td>\n",
              "      <td>1210</td>\n",
              "      <td>5.0</td>\n",
              "      <td>957481884</td>\n",
              "    </tr>\n",
              "    <tr>\n",
              "      <th>4</th>\n",
              "      <td>130</td>\n",
              "      <td>316</td>\n",
              "      <td>2.0</td>\n",
              "      <td>1138999234</td>\n",
              "    </tr>\n",
              "  </tbody>\n",
              "</table>\n",
              "</div>"
            ],
            "text/plain": [
              "   userId  movieId  rating   timestamp\n",
              "0      73     1097     4.0  1255504951\n",
              "1     561      924     3.5  1172695223\n",
              "2     157      260     3.5  1291598691\n",
              "3     358     1210     5.0   957481884\n",
              "4     130      316     2.0  1138999234"
            ]
          },
          "metadata": {
            "tags": []
          },
          "execution_count": 4
        }
      ]
    },
    {
      "cell_type": "markdown",
      "metadata": {
        "id": "CujhLYqPhqfa",
        "colab_type": "text"
      },
      "source": [
        "Below is another way to create a DataBunch. Instead of creating a ItemList, which was created in the tabular section, **we can call the method `from_df` from `CollabDataBunch`**, means that the DataBunch is created from a pandas dataframe. Calling `data.show_batch()` shows the first five examples in the DataBunch."
      ]
    },
    {
      "cell_type": "code",
      "metadata": {
        "id": "Vi2C0If-Boe0",
        "colab_type": "code",
        "outputId": "f019c759-7a04-4c82-879e-b8bc53615ace",
        "colab": {
          "base_uri": "https://localhost:8080/",
          "height": 204
        }
      },
      "source": [
        "#CODE BELOW IS FULLY CREDITED TO FASTAI (fast.ai)\n",
        "#USED ONLY FOR EDUCATIONAL PURPOSES UNDER FAIR USE\n",
        "\n",
        "data = CollabDataBunch.from_df(ratings, seed=42)\n",
        "data.show_batch()"
      ],
      "execution_count": 0,
      "outputs": [
        {
          "output_type": "display_data",
          "data": {
            "text/html": [
              "<table border=\"1\" class=\"dataframe\">\n",
              "  <thead>\n",
              "    <tr style=\"text-align: right;\">\n",
              "      <th>userId</th>\n",
              "      <th>movieId</th>\n",
              "      <th>target</th>\n",
              "    </tr>\n",
              "  </thead>\n",
              "  <tbody>\n",
              "    <tr>\n",
              "      <td>157</td>\n",
              "      <td>1206</td>\n",
              "      <td>4.0</td>\n",
              "    </tr>\n",
              "    <tr>\n",
              "      <td>247</td>\n",
              "      <td>1</td>\n",
              "      <td>4.0</td>\n",
              "    </tr>\n",
              "    <tr>\n",
              "      <td>561</td>\n",
              "      <td>367</td>\n",
              "      <td>3.5</td>\n",
              "    </tr>\n",
              "    <tr>\n",
              "      <td>624</td>\n",
              "      <td>1200</td>\n",
              "      <td>2.0</td>\n",
              "    </tr>\n",
              "    <tr>\n",
              "      <td>157</td>\n",
              "      <td>1291</td>\n",
              "      <td>3.5</td>\n",
              "    </tr>\n",
              "  </tbody>\n",
              "</table>"
            ],
            "text/plain": [
              "<IPython.core.display.HTML object>"
            ]
          },
          "metadata": {
            "tags": []
          }
        }
      ]
    },
    {
      "cell_type": "markdown",
      "metadata": {
        "id": "cps9yV55iz4S",
        "colab_type": "text"
      },
      "source": [
        "https://docs.fast.ai/collab.html\n",
        "https://docs.fast.ai/collab.html#CollabList\n"
      ]
    },
    {
      "cell_type": "markdown",
      "metadata": {
        "id": "0GN8vgO7N_8E",
        "colab_type": "text"
      },
      "source": [
        "#Visual Data\n",
        "**We will be reading in pictures of handwritten digits of 7 and 3 in order to predict what the actual digits are.**\n",
        "\n",
        "In the section, we will be calling `fastai.vision`. [Computer vision](https://docs.fast.ai/vision.html) is a section of computer science which deals with analyzing pictures. A convolutional neural network (CNN) is a special type of neural network which we will cover in later courses, but for this notebook we will show how data in the form of images will be read using fastai."
      ]
    },
    {
      "cell_type": "code",
      "metadata": {
        "id": "jk9VXhMaOArj",
        "colab_type": "code",
        "colab": {}
      },
      "source": [
        "from fastai.vision import *"
      ],
      "execution_count": 0,
      "outputs": []
    },
    {
      "cell_type": "markdown",
      "metadata": {
        "id": "SuWknM-XkZob",
        "colab_type": "text"
      },
      "source": [
        "The images are located in `URLs.MNIST_TINY`. Notice in the folder, there are several other folders, each already designated what is training, testing, and validation data. We can see the files inside this path when we call `path.ls()`."
      ]
    },
    {
      "cell_type": "code",
      "metadata": {
        "id": "hBAr63ZtPjVc",
        "colab_type": "code",
        "outputId": "265c4da2-04fd-429c-d2f6-1b01b2a2507a",
        "colab": {
          "base_uri": "https://localhost:8080/",
          "height": 119
        }
      },
      "source": [
        "#CODE BELOW IS FULLY CREDITED TO FASTAI (fast.ai)\n",
        "#USED ONLY FOR EDUCATIONAL PURPOSES UNDER FAIR USE\n",
        "\n",
        "path = untar_data(URLs.MNIST_TINY)\n",
        "path.ls()"
      ],
      "execution_count": 0,
      "outputs": [
        {
          "output_type": "stream",
          "text": [
            "Downloading http://files.fast.ai/data/examples/mnist_tiny\n"
          ],
          "name": "stdout"
        },
        {
          "output_type": "display_data",
          "data": {
            "text/html": [
              ""
            ],
            "text/plain": [
              "<IPython.core.display.HTML object>"
            ]
          },
          "metadata": {
            "tags": []
          }
        },
        {
          "output_type": "execute_result",
          "data": {
            "text/plain": [
              "[PosixPath('/root/.fastai/data/mnist_tiny/valid'),\n",
              " PosixPath('/root/.fastai/data/mnist_tiny/labels.csv'),\n",
              " PosixPath('/root/.fastai/data/mnist_tiny/train'),\n",
              " PosixPath('/root/.fastai/data/mnist_tiny/models'),\n",
              " PosixPath('/root/.fastai/data/mnist_tiny/test')]"
            ]
          },
          "metadata": {
            "tags": []
          },
          "execution_count": 8
        }
      ]
    },
    {
      "cell_type": "code",
      "metadata": {
        "id": "fOanMPF-PksU",
        "colab_type": "code",
        "outputId": "9f91e06c-6f69-4ad4-c7cc-259561222d3e",
        "colab": {
          "base_uri": "https://localhost:8080/",
          "height": 51
        }
      },
      "source": [
        "(path/'train').ls()"
      ],
      "execution_count": 0,
      "outputs": [
        {
          "output_type": "execute_result",
          "data": {
            "text/plain": [
              "[PosixPath('/root/.fastai/data/mnist_tiny/train/7'),\n",
              " PosixPath('/root/.fastai/data/mnist_tiny/train/3')]"
            ]
          },
          "metadata": {
            "tags": []
          },
          "execution_count": 9
        }
      ]
    },
    {
      "cell_type": "markdown",
      "metadata": {
        "id": "oBcywraklPfi",
        "colab_type": "text"
      },
      "source": [
        "**Data augmentation is especially important to images because there are many ways we can change an image and still have the same \"label\" apply to the image.** The method `get_transforms` creates a list of transformations, essentially actions we can apply on the images such as flipping and resizing, and in this line specifically, we are specifying that our transformations should not include flipping. \n",
        "\n",
        "Notice if you flip a 7, the image does not look like a 7 anymore. That is why we cannot use flipping in our data augmentation, because the label for 7 does not apply to 7 if it is flipped. "
      ]
    },
    {
      "cell_type": "code",
      "metadata": {
        "id": "Qiuq_N0OlQYI",
        "colab_type": "code",
        "colab": {}
      },
      "source": [
        "#CODE BELOW IS FULLY CREDITED TO FASTAI (fast.ai)\n",
        "#USED ONLY FOR EDUCATIONAL PURPOSES UNDER FAIR USE\n",
        "\n",
        "tfms = get_transforms(do_flip=False)"
      ],
      "execution_count": 0,
      "outputs": []
    },
    {
      "cell_type": "markdown",
      "metadata": {
        "id": "OTu7DIcYnXmC",
        "colab_type": "text"
      },
      "source": [
        "Similarly to the way the DataBunch in collaborative filtering was created, we can call `from_folder` from `ImageDataBunch` to create a DataBunch directly, without having to use an `ItemList`. **The method `from_folder` only applies to data which is sorted in folders called train and valid folders.**\n",
        "\n",
        "The path of the folders containing the images are passed, and the transformations are also passed through the keyword argument `ds_tfms`."
      ]
    },
    {
      "cell_type": "code",
      "metadata": {
        "id": "GImlOHDAPmJs",
        "colab_type": "code",
        "colab": {}
      },
      "source": [
        "#CODE BELOW IS FULLY CREDITED TO FASTAI (fast.ai)\n",
        "#USED ONLY FOR EDUCATIONAL PURPOSES UNDER FAIR USE\n",
        "\n",
        "data = ImageDataBunch.from_folder(path, ds_tfms=tfms, size=64)"
      ],
      "execution_count": 0,
      "outputs": []
    },
    {
      "cell_type": "markdown",
      "metadata": {
        "id": "Wrm28IukkjwA",
        "colab_type": "text"
      },
      "source": [
        "Because data might not always be formatted directly as clear and as neat (such as being sorted in train and valid folders), using an `ImageList`, a subclass of `ItemList`, provides more options and different ways data can be used for neural networks. \n",
        "\n"
      ]
    },
    {
      "cell_type": "code",
      "metadata": {
        "id": "P_BkGol_PmPD",
        "colab_type": "code",
        "colab": {}
      },
      "source": [
        "#CODE BELOW IS FULLY CREDITED TO FASTAI (fast.ai)\n",
        "#USED ONLY FOR EDUCATIONAL PURPOSES UNDER FAIR USE\n",
        "\n",
        "data = (ImageList.from_folder(path) #Where to find the data? -> in path and its subfolders\n",
        "        .split_by_folder()              #How to split in train/valid? -> use the folders\n",
        "        .label_from_folder()            #How to label? -> depending on the folder of the filenames\n",
        "        .add_test_folder()              #Optionally add a test set (here default name is test)\n",
        "        .transform(tfms, size=64)       #Data augmentation? -> use tfms with a size of 64\n",
        "        .databunch())                   #Finally? -> use the defaults for conversion to ImageDataBunch"
      ],
      "execution_count": 0,
      "outputs": []
    },
    {
      "cell_type": "markdown",
      "metadata": {
        "id": "mg4maDJ_o05D",
        "colab_type": "text"
      },
      "source": [
        "Both methods still end up creating a DataBunch called `data`, and we can preview the images by calling `show_batch`."
      ]
    },
    {
      "cell_type": "code",
      "metadata": {
        "id": "h06soTrnPmTP",
        "colab_type": "code",
        "outputId": "9eeee422-dcf8-4887-d831-38fe7a662581",
        "colab": {
          "base_uri": "https://localhost:8080/",
          "height": 441
        }
      },
      "source": [
        "#CODE BELOW IS FULLY CREDITED TO FASTAI (fast.ai)\n",
        "#USED ONLY FOR EDUCATIONAL PURPOSES UNDER FAIR USE\n",
        "\n",
        "data.show_batch(3, figsize=(6,6), hide_axis=False)"
      ],
      "execution_count": 0,
      "outputs": [
        {
          "output_type": "display_data",
          "data": {
            "image/png": "[encoded data removed]",
            "text/plain": [
              "<Figure size 432x432 with 9 Axes>"
            ]
          },
          "metadata": {
            "tags": [],
            "needs_background": "light"
          }
        }
      ]
    },
    {
      "cell_type": "markdown",
      "metadata": {
        "id": "Ak6KN8rWjX8J",
        "colab_type": "text"
      },
      "source": [
        "https://docs.fast.ai/vision.html\n",
        "https://docs.fast.ai/data_block.html"
      ]
    }
  ]
}