{
  "nbformat": 4,
  "nbformat_minor": 0,
  "metadata": {
    "colab": {
      "name": "Lesson 1 - Python",
      "provenance": [],
      "collapsed_sections": [],
      "toc_visible": true,
      "include_colab_link": true
    },
    "kernelspec": {
      "name": "python3",
      "display_name": "Python 3"
    }
  },
  "cells": [
    {
      "cell_type": "markdown",
      "metadata": {
        "id": "view-in-github",
        "colab_type": "text"
      },
      "source": [
        "<a href=\"https://colab.research.google.com/github/marianqian/Intro-to-ML-and-DL-Using-fast.ai/blob/master/notebooks/Lesson_1_Python.ipynb\" target=\"_parent\"><img src=\"https://colab.research.google.com/assets/colab-badge.svg\" alt=\"Open In Colab\"/></a>"
      ]
    },
    {
      "cell_type": "markdown",
      "metadata": {
        "id": "q7XdCs6-aj-e",
        "colab_type": "text"
      },
      "source": [
        "Welcome to the AIM Academy! This is the first lesson for you to be familiar with the Python coding language. While this notebook does not cover the vast principles that come with Python, it introduces the Python you need to get started with deep learning. \n",
        "\n",
        "NOTE: Educational use and distribution is permitted, but credit and attribution to AIM Academy is required. "
      ]
    },
    {
      "cell_type": "markdown",
      "metadata": {
        "id": "DaNBy34-a8ru",
        "colab_type": "text"
      },
      "source": [
        "#Learning Objectives\n",
        "\n",
        "\n",
        "*   Understand simple Python syntax\n",
        "*   Use data structures, methods, and variables\n",
        "* Understand how to import libraries\n",
        "* Understand how to work Google Colab \n",
        "\n"
      ]
    },
    {
      "cell_type": "markdown",
      "metadata": {
        "id": "DD31pW86aY6_",
        "colab_type": "text"
      },
      "source": [
        "# Using Google Colab\n"
      ]
    },
    {
      "cell_type": "markdown",
      "metadata": {
        "id": "uSsJCS-NzmOV",
        "colab_type": "text"
      },
      "source": [
        "Google Colaboratory is an online Jupyter Notebook. Running deep learning related tasks on Colaboratory is free and easy to use because everything is already connected to a GPU, which allows us to do computations faster."
      ]
    },
    {
      "cell_type": "markdown",
      "metadata": {
        "id": "i9dvOMFC0XQi",
        "colab_type": "text"
      },
      "source": [
        "This block is a text block. Code blocks, shown below, can be executed by pressing Ctrl + Enter or by clicking on the small box with or without the line number on the left. "
      ]
    },
    {
      "cell_type": "code",
      "metadata": {
        "id": "-UZGzQgN-uws",
        "colab_type": "code",
        "outputId": "ca56709c-6a7b-43e5-d372-1bbd3ed99f4c",
        "colab": {
          "base_uri": "https://localhost:8080/",
          "height": 34
        }
      },
      "source": [
        "print(\"I am a code block\")"
      ],
      "execution_count": 0,
      "outputs": [
        {
          "output_type": "stream",
          "text": [
            "I am a code block\n"
          ],
          "name": "stdout"
        }
      ]
    },
    {
      "cell_type": "markdown",
      "metadata": {
        "id": "8_AlBuUp0mKL",
        "colab_type": "text"
      },
      "source": [
        "As you can see, the output of the block says what we wanted to print inside, which was a string object. \n",
        "One important note: \n",
        "Jupyter Notebooks allow users to print out objects by simply stating them. In normal programs or Python scripts, we have to use the print() function to do the same thing. See how the last two blocks give the same output?"
      ]
    },
    {
      "cell_type": "code",
      "metadata": {
        "id": "ORwyFTl_-yKO",
        "colab_type": "code",
        "outputId": "161992c1-990f-4769-c548-8e51049f9f60",
        "colab": {
          "base_uri": "https://localhost:8080/",
          "height": 34
        }
      },
      "source": [
        "\"This is a string\""
      ],
      "execution_count": 0,
      "outputs": [
        {
          "output_type": "execute_result",
          "data": {
            "text/plain": [
              "'This is a string'"
            ]
          },
          "metadata": {
            "tags": []
          },
          "execution_count": 2
        }
      ]
    },
    {
      "cell_type": "code",
      "metadata": {
        "id": "7hon6hZnzVC3",
        "colab_type": "code",
        "outputId": "dd862c8b-42a5-45cb-ab90-15ac39026eb0",
        "colab": {
          "base_uri": "https://localhost:8080/",
          "height": 34
        }
      },
      "source": [
        "print(\"This is a string\")"
      ],
      "execution_count": 0,
      "outputs": [
        {
          "output_type": "stream",
          "text": [
            "This is a string\n"
          ],
          "name": "stdout"
        }
      ]
    },
    {
      "cell_type": "markdown",
      "metadata": {
        "id": "LMcNo1QTXPde",
        "colab_type": "text"
      },
      "source": [
        "# Indentation\n",
        "\n",
        "Python is structured so that every \"indent\" allocates the start of a new block or section of code. For-loops and conditional statements, classes, and methods all require indents to distinguish the different parts of code. For example: \n",
        "```\n",
        "1   sum = 0\n",
        "2   for i in range(9):\n",
        "3      sum += i\n",
        "4      print(i)\n",
        "```\n",
        "The indentation between lines 2 and 3 indicate that the lines of code indented after line 2 are a separate section of code that run in relation to line 2. When we learn more about the other data structures, indentation will make more sense as we go along.\n",
        "![](https://www.python-course.eu/images/blocks.png)\n",
        "\n",
        "(Python 3 Tutorial, python-course.eu, Bernd Klein)"
      ]
    },
    {
      "cell_type": "markdown",
      "metadata": {
        "id": "LeeEiQDQ_MEC",
        "colab_type": "text"
      },
      "source": [
        "Try running the next two code blocks by pressing the small box on the left."
      ]
    },
    {
      "cell_type": "code",
      "metadata": {
        "id": "AzU2rBXKaWEN",
        "colab_type": "code",
        "outputId": "e2641b38-8992-4568-f64e-a3a8c149697e",
        "colab": {
          "base_uri": "https://localhost:8080/",
          "height": 82
        }
      },
      "source": [
        "for x in range(10):\n",
        "  if x % 3 == 0:\n",
        "    print(str(x) + \" is divisible by 3\")"
      ],
      "execution_count": 0,
      "outputs": [
        {
          "output_type": "stream",
          "text": [
            "0 is divisible by 3\n",
            "3 is divisible by 3\n",
            "6 is divisible by 3\n",
            "9 is divisible by 3\n"
          ],
          "name": "stdout"
        }
      ]
    },
    {
      "cell_type": "code",
      "metadata": {
        "id": "AjVg_g2eaJHY",
        "colab_type": "code",
        "outputId": "3edb87a2-74d2-4a72-97cb-fd299724eb85",
        "colab": {
          "base_uri": "https://localhost:8080/",
          "height": 126
        }
      },
      "source": [
        "for x in range(10):\n",
        "print(x)"
      ],
      "execution_count": 0,
      "outputs": [
        {
          "output_type": "error",
          "ename": "IndentationError",
          "evalue": "ignored",
          "traceback": [
            "\u001b[0;36m  File \u001b[0;32m\"<ipython-input-6-790af6e00d9b>\"\u001b[0;36m, line \u001b[0;32m2\u001b[0m\n\u001b[0;31m    print(x)\u001b[0m\n\u001b[0m        ^\u001b[0m\n\u001b[0;31mIndentationError\u001b[0m\u001b[0;31m:\u001b[0m expected an indented block\n"
          ]
        }
      ]
    },
    {
      "cell_type": "markdown",
      "metadata": {
        "id": "uibSrMelaGqi",
        "colab_type": "text"
      },
      "source": [
        "Notice in the second interactive code block how there is an *IndentationError* because line 2 (`print(x)`) is not indented. Line 2 in the first interactive code block is indented (`if x % 3 == 0:`), and no error comes up."
      ]
    },
    {
      "cell_type": "markdown",
      "metadata": {
        "id": "XDG-JOXK1opF",
        "colab_type": "text"
      },
      "source": [
        "# Print"
      ]
    },
    {
      "cell_type": "markdown",
      "metadata": {
        "id": "Yhi7nV5dAv9C",
        "colab_type": "text"
      },
      "source": [
        "The print() function allows us to print out the value stored inside a variable, which we will describe in more detail later. \n",
        "In the code block below, the print() function is preceded by a question mark (?). In Google Colab, running this cell will show a pop-up window with instructions and information about the print() function. "
      ]
    },
    {
      "cell_type": "code",
      "metadata": {
        "id": "Mtf61stPFYIZ",
        "colab_type": "code",
        "colab": {}
      },
      "source": [
        "?print() "
      ],
      "execution_count": 0,
      "outputs": []
    },
    {
      "cell_type": "markdown",
      "metadata": {
        "id": "ngeU0HTmBREq",
        "colab_type": "text"
      },
      "source": [
        "Here, we use the type() function to check which data type the numbers are. In Python, numbers are classified into data types such as integers and floats (otherwise known as decimal numbers). In order to use the type() function, pass through a value and the output will be which data class type the value is in. Other data types include strings, booleans, and complex objects."
      ]
    },
    {
      "cell_type": "markdown",
      "metadata": {
        "id": "dKwxBkhNB1fi",
        "colab_type": "text"
      },
      "source": [
        "Notice here, the print() function is also used to print out what the data type is. The \"2 is type {}\" is a string, with .format(type(2)) being \"called\" at the end with a period. The {} (brackets) indicate that we want to put the output of type(2) into that specific space in the string. The output, when the cell is run, is \"2 is type <class 'int'>\", and <class 'int'> is the output result of type(2)."
      ]
    },
    {
      "cell_type": "code",
      "metadata": {
        "id": "KSR9v4hk4qPr",
        "colab_type": "code",
        "outputId": "5ba4223d-5456-45df-c214-f73189f66294",
        "colab": {
          "base_uri": "https://localhost:8080/",
          "height": 51
        }
      },
      "source": [
        "2\n",
        "print(\"2 is type {}\".format(type(2)))\n",
        "0.5\n",
        "print(\"0.5 is type {}\".format(type(0.5)))\n"
      ],
      "execution_count": 0,
      "outputs": [
        {
          "output_type": "stream",
          "text": [
            "2 is type <class 'int'>\n",
            "0.5 is type <class 'float'>\n"
          ],
          "name": "stdout"
        }
      ]
    },
    {
      "cell_type": "markdown",
      "metadata": {
        "id": "k-p7--36CZo2",
        "colab_type": "text"
      },
      "source": [
        "#Operations\n",
        "Python allows for easy arithmetic operations. Run the next few cells to explore how to add, subtract, multiply, and divide numbers of your own. "
      ]
    },
    {
      "cell_type": "code",
      "metadata": {
        "id": "s2g41HIc5EbK",
        "colab_type": "code",
        "outputId": "a2589c30-1b76-4de8-e63c-050ab6b295d7",
        "colab": {
          "base_uri": "https://localhost:8080/",
          "height": 34
        }
      },
      "source": [
        "10 + 4"
      ],
      "execution_count": 0,
      "outputs": [
        {
          "output_type": "execute_result",
          "data": {
            "text/plain": [
              "14"
            ]
          },
          "metadata": {
            "tags": []
          },
          "execution_count": 7
        }
      ]
    },
    {
      "cell_type": "code",
      "metadata": {
        "id": "9kPOcloo5JhQ",
        "colab_type": "code",
        "outputId": "51e81001-4a2e-47f2-867f-275a830f6c73",
        "colab": {
          "base_uri": "https://localhost:8080/",
          "height": 34
        }
      },
      "source": [
        "10 - 4"
      ],
      "execution_count": 0,
      "outputs": [
        {
          "output_type": "execute_result",
          "data": {
            "text/plain": [
              "6"
            ]
          },
          "metadata": {
            "tags": []
          },
          "execution_count": 8
        }
      ]
    },
    {
      "cell_type": "code",
      "metadata": {
        "id": "mj4IqHgM5L-m",
        "colab_type": "code",
        "outputId": "f00af348-aab5-446a-bda2-a8a7466264c0",
        "colab": {
          "base_uri": "https://localhost:8080/",
          "height": 34
        }
      },
      "source": [
        "10 * 4"
      ],
      "execution_count": 0,
      "outputs": [
        {
          "output_type": "execute_result",
          "data": {
            "text/plain": [
              "40"
            ]
          },
          "metadata": {
            "tags": []
          },
          "execution_count": 9
        }
      ]
    },
    {
      "cell_type": "code",
      "metadata": {
        "id": "1Gp08msI5NKf",
        "colab_type": "code",
        "outputId": "87e4f1c7-5ad8-49ff-8a40-96a7f74d9f0f",
        "colab": {
          "base_uri": "https://localhost:8080/",
          "height": 34
        }
      },
      "source": [
        "10 / 4"
      ],
      "execution_count": 0,
      "outputs": [
        {
          "output_type": "execute_result",
          "data": {
            "text/plain": [
              "2.5"
            ]
          },
          "metadata": {
            "tags": []
          },
          "execution_count": 10
        }
      ]
    },
    {
      "cell_type": "markdown",
      "metadata": {
        "id": "u6anIih4CpZS",
        "colab_type": "text"
      },
      "source": [
        "The == is equivalent to determining whether two values are equal to one another. The output is a True or False statement (True and False are boolean data types). \n",
        "The = sign (single equal sign) is used for a different purpose, so the double equal sign is used to test if two values are equal."
      ]
    },
    {
      "cell_type": "code",
      "metadata": {
        "id": "p62u8qezFU5T",
        "colab_type": "code",
        "outputId": "783f5065-3671-4747-a703-b2ee0973d54a",
        "colab": {
          "base_uri": "https://localhost:8080/",
          "height": 34
        }
      },
      "source": [
        "4 == 4"
      ],
      "execution_count": 0,
      "outputs": [
        {
          "output_type": "execute_result",
          "data": {
            "text/plain": [
              "True"
            ]
          },
          "metadata": {
            "tags": []
          },
          "execution_count": 16
        }
      ]
    },
    {
      "cell_type": "markdown",
      "metadata": {
        "id": "aUEgr83_DB42",
        "colab_type": "text"
      },
      "source": [
        "The != sign is used to determine whether two values are not equal. In this example, 4 is the same value as 4, therefore it is false that they are not equal, because they are in fact the same number. "
      ]
    },
    {
      "cell_type": "code",
      "metadata": {
        "id": "p4JBRKX_Fy6T",
        "colab_type": "code",
        "outputId": "e127c114-5e78-4379-9254-a1efc932ef96",
        "colab": {
          "base_uri": "https://localhost:8080/",
          "height": 34
        }
      },
      "source": [
        "4 != 4 "
      ],
      "execution_count": 0,
      "outputs": [
        {
          "output_type": "execute_result",
          "data": {
            "text/plain": [
              "False"
            ]
          },
          "metadata": {
            "tags": []
          },
          "execution_count": 18
        }
      ]
    },
    {
      "cell_type": "markdown",
      "metadata": {
        "id": "-ZFP2kuODiHm",
        "colab_type": "text"
      },
      "source": [
        "Comparison operators, such as the less than sign (<), greater than sign (>), less than or equal to (<=), and the greater than or equal to (>=) are all used to compare two values. The output of a statement consisting of a comparison operator is a boolean (True or False). Run the next two blocks to explore the outputs. "
      ]
    },
    {
      "cell_type": "code",
      "metadata": {
        "id": "hRozhfv0-9St",
        "colab_type": "code",
        "outputId": "a9a5f411-3c7c-49b1-d6ad-0de4357b1268",
        "colab": {
          "base_uri": "https://localhost:8080/",
          "height": 68
        }
      },
      "source": [
        "print(4 < 4)\n",
        "print(4 <= 4)\n",
        "print(5 < 4)"
      ],
      "execution_count": 0,
      "outputs": [
        {
          "output_type": "stream",
          "text": [
            "False\n",
            "True\n",
            "False\n"
          ],
          "name": "stdout"
        }
      ]
    },
    {
      "cell_type": "code",
      "metadata": {
        "id": "CifNmHgQ-9fm",
        "colab_type": "code",
        "outputId": "703666e3-cf18-4f9f-eaa6-0c864e67f631",
        "colab": {
          "base_uri": "https://localhost:8080/",
          "height": 68
        }
      },
      "source": [
        "print(4 > 4)\n",
        "print(4 >= 4)\n",
        "print(5 > 4)"
      ],
      "execution_count": 0,
      "outputs": [
        {
          "output_type": "stream",
          "text": [
            "False\n",
            "True\n",
            "True\n"
          ],
          "name": "stdout"
        }
      ]
    },
    {
      "cell_type": "markdown",
      "metadata": {
        "id": "kJ1Vzd-vEDKz",
        "colab_type": "text"
      },
      "source": [
        "#Variables\n",
        "Variables are names or references we give to an object that stores a value. For example, the variable s is being assigned the value \"hello\". The variable s's value can be changed. If the line s = \"dog\" was added, the s would have the value \"dog\" instead of \"hello\". "
      ]
    },
    {
      "cell_type": "code",
      "metadata": {
        "id": "NSfRqlDkF4St",
        "colab_type": "code",
        "colab": {}
      },
      "source": [
        "s = \"hello\" "
      ],
      "execution_count": 0,
      "outputs": []
    },
    {
      "cell_type": "markdown",
      "metadata": {
        "id": "-WPdtcoiExav",
        "colab_type": "text"
      },
      "source": [
        "Using the type() function, the following line prints out the data type of variable s. The variable s is of class type string, or <class 'str'>. \n",
        "The len() function can be used on strings, and the print out how many characters the string contains. "
      ]
    },
    {
      "cell_type": "code",
      "metadata": {
        "id": "hfWQUenEBApx",
        "colab_type": "code",
        "outputId": "7a8553e9-8f61-4ba9-ae04-7db4601a0746",
        "colab": {
          "base_uri": "https://localhost:8080/",
          "height": 51
        }
      },
      "source": [
        "print(type(s))\n",
        "print(len(s))"
      ],
      "execution_count": 0,
      "outputs": [
        {
          "output_type": "stream",
          "text": [
            "<class 'str'>\n",
            "5\n"
          ],
          "name": "stdout"
        }
      ]
    },
    {
      "cell_type": "markdown",
      "metadata": {
        "id": "GKCtc_mBFGHJ",
        "colab_type": "text"
      },
      "source": [
        "Here, another variable temp is created. The variable temp is assigned the same value as s, and they are references to the same value, which is \"hello\". Because s is a string, we can concatenate other strings behind the existing string. s = s + \" my name\" changes the variable s to point to \"hello my name\" instead of just \"hello\"."
      ]
    },
    {
      "cell_type": "code",
      "metadata": {
        "id": "NKQoTGlIBzYo",
        "colab_type": "code",
        "outputId": "73ec603f-3f69-4819-d515-c3d4ed704bea",
        "colab": {
          "base_uri": "https://localhost:8080/",
          "height": 51
        }
      },
      "source": [
        "temp = s\n",
        "print(temp)\n",
        "s = s + \" my name\"\n",
        "print(s)"
      ],
      "execution_count": 0,
      "outputs": [
        {
          "output_type": "stream",
          "text": [
            "hello\n",
            "hello my name\n"
          ],
          "name": "stdout"
        }
      ]
    },
    {
      "cell_type": "markdown",
      "metadata": {
        "id": "wbVq5gTpFjPN",
        "colab_type": "text"
      },
      "source": [
        "#Strings\n",
        "Strings allow splicing or indexing, which is a way to look at each individual character inside the string. Indexing in python starts at 0, so the first character in the string has an index of 0. \n",
        "\n",
        "String can be seen as an array of individual characters. Later, you will see how indexing and splicing strings is similar to indexing and splicing with arrays and lists.\n",
        "\n",
        "s[:2] gives the string from the beginning up to the character at index 2. \n",
        "\n",
        "s[2:] gives the character from index 2 to the last index in the string. "
      ]
    },
    {
      "cell_type": "code",
      "metadata": {
        "id": "5Ancb6NpGvDK",
        "colab_type": "code",
        "outputId": "d05e16ba-886d-4cbf-fe17-d91767256882",
        "colab": {
          "base_uri": "https://localhost:8080/",
          "height": 85
        }
      },
      "source": [
        "print(s[0])\n",
        "print(s[1])\n",
        "print(s[:2])\n",
        "print(s[2:])"
      ],
      "execution_count": 0,
      "outputs": [
        {
          "output_type": "stream",
          "text": [
            "h\n",
            "e\n",
            "he\n",
            "llo my name\n"
          ],
          "name": "stdout"
        }
      ]
    },
    {
      "cell_type": "markdown",
      "metadata": {
        "id": "Hk7kcdLpGLQ2",
        "colab_type": "text"
      },
      "source": [
        "#Lists\n",
        "Lists are a data structure where objects can be accessed through indexes. They can be of any size, and each value in the list can be changed. Values in the list are separated with commas, and list[1] gives the second element in the list. Lists can also consist of several data types. "
      ]
    },
    {
      "cell_type": "code",
      "metadata": {
        "id": "hfO4ZypwG_tH",
        "colab_type": "code",
        "outputId": "e31955b8-18ea-4b4f-e1ae-07b412e93a21",
        "colab": {
          "base_uri": "https://localhost:8080/",
          "height": 1000
        }
      },
      "source": [
        "list = [1, 2, 3]\n",
        "print(list)\n",
        "print(list[1])\n",
        "help(list)"
      ],
      "execution_count": 0,
      "outputs": [
        {
          "output_type": "stream",
          "text": [
            "[1, 2, 3]\n",
            "2\n",
            "Help on list object:\n",
            "\n",
            "class list(object)\n",
            " |  list() -> new empty list\n",
            " |  list(iterable) -> new list initialized from iterable's items\n",
            " |  \n",
            " |  Methods defined here:\n",
            " |  \n",
            " |  __add__(self, value, /)\n",
            " |      Return self+value.\n",
            " |  \n",
            " |  __contains__(self, key, /)\n",
            " |      Return key in self.\n",
            " |  \n",
            " |  __delitem__(self, key, /)\n",
            " |      Delete self[key].\n",
            " |  \n",
            " |  __eq__(self, value, /)\n",
            " |      Return self==value.\n",
            " |  \n",
            " |  __ge__(self, value, /)\n",
            " |      Return self>=value.\n",
            " |  \n",
            " |  __getattribute__(self, name, /)\n",
            " |      Return getattr(self, name).\n",
            " |  \n",
            " |  __getitem__(...)\n",
            " |      x.__getitem__(y) <==> x[y]\n",
            " |  \n",
            " |  __gt__(self, value, /)\n",
            " |      Return self>value.\n",
            " |  \n",
            " |  __iadd__(self, value, /)\n",
            " |      Implement self+=value.\n",
            " |  \n",
            " |  __imul__(self, value, /)\n",
            " |      Implement self*=value.\n",
            " |  \n",
            " |  __init__(self, /, *args, **kwargs)\n",
            " |      Initialize self.  See help(type(self)) for accurate signature.\n",
            " |  \n",
            " |  __iter__(self, /)\n",
            " |      Implement iter(self).\n",
            " |  \n",
            " |  __le__(self, value, /)\n",
            " |      Return self<=value.\n",
            " |  \n",
            " |  __len__(self, /)\n",
            " |      Return len(self).\n",
            " |  \n",
            " |  __lt__(self, value, /)\n",
            " |      Return self<value.\n",
            " |  \n",
            " |  __mul__(self, value, /)\n",
            " |      Return self*value.\n",
            " |  \n",
            " |  __ne__(self, value, /)\n",
            " |      Return self!=value.\n",
            " |  \n",
            " |  __new__(*args, **kwargs) from builtins.type\n",
            " |      Create and return a new object.  See help(type) for accurate signature.\n",
            " |  \n",
            " |  __repr__(self, /)\n",
            " |      Return repr(self).\n",
            " |  \n",
            " |  __reversed__(...)\n",
            " |      L.__reversed__() -- return a reverse iterator over the list\n",
            " |  \n",
            " |  __rmul__(self, value, /)\n",
            " |      Return value*self.\n",
            " |  \n",
            " |  __setitem__(self, key, value, /)\n",
            " |      Set self[key] to value.\n",
            " |  \n",
            " |  __sizeof__(...)\n",
            " |      L.__sizeof__() -- size of L in memory, in bytes\n",
            " |  \n",
            " |  append(...)\n",
            " |      L.append(object) -> None -- append object to end\n",
            " |  \n",
            " |  clear(...)\n",
            " |      L.clear() -> None -- remove all items from L\n",
            " |  \n",
            " |  copy(...)\n",
            " |      L.copy() -> list -- a shallow copy of L\n",
            " |  \n",
            " |  count(...)\n",
            " |      L.count(value) -> integer -- return number of occurrences of value\n",
            " |  \n",
            " |  extend(...)\n",
            " |      L.extend(iterable) -> None -- extend list by appending elements from the iterable\n",
            " |  \n",
            " |  index(...)\n",
            " |      L.index(value, [start, [stop]]) -> integer -- return first index of value.\n",
            " |      Raises ValueError if the value is not present.\n",
            " |  \n",
            " |  insert(...)\n",
            " |      L.insert(index, object) -- insert object before index\n",
            " |  \n",
            " |  pop(...)\n",
            " |      L.pop([index]) -> item -- remove and return item at index (default last).\n",
            " |      Raises IndexError if list is empty or index is out of range.\n",
            " |  \n",
            " |  remove(...)\n",
            " |      L.remove(value) -> None -- remove first occurrence of value.\n",
            " |      Raises ValueError if the value is not present.\n",
            " |  \n",
            " |  reverse(...)\n",
            " |      L.reverse() -- reverse *IN PLACE*\n",
            " |  \n",
            " |  sort(...)\n",
            " |      L.sort(key=None, reverse=False) -> None -- stable sort *IN PLACE*\n",
            " |  \n",
            " |  ----------------------------------------------------------------------\n",
            " |  Data and other attributes defined here:\n",
            " |  \n",
            " |  __hash__ = None\n",
            "\n"
          ],
          "name": "stdout"
        }
      ]
    },
    {
      "cell_type": "markdown",
      "metadata": {
        "id": "6U5KQrPzOEq9",
        "colab_type": "text"
      },
      "source": [
        "An array is a list with sublists as elements. Accessing elements through indexes require another index to access deeper into the sublist. "
      ]
    },
    {
      "cell_type": "code",
      "metadata": {
        "id": "x8g5ZUqpHYLa",
        "colab_type": "code",
        "outputId": "25bddc82-86e8-4760-ba38-2b0d10ca156e",
        "colab": {
          "base_uri": "https://localhost:8080/",
          "height": 68
        }
      },
      "source": [
        "array = [[1, 3], [5, 6]]\n",
        "print(array)\n",
        "print(array[1])\n",
        "print(array[1][1])"
      ],
      "execution_count": 0,
      "outputs": [
        {
          "output_type": "stream",
          "text": [
            "[[1, 3], [5, 6]]\n",
            "[5, 6]\n",
            "6\n"
          ],
          "name": "stdout"
        }
      ]
    },
    {
      "cell_type": "markdown",
      "metadata": {
        "id": "KfFKVnkIOQZs",
        "colab_type": "text"
      },
      "source": [
        "#Code Formats\n",
        "Below in the code block is an if-statement. Because the statement 5 == 5 returns True, the statement after the if-statement is executed. \n",
        "\n"
      ]
    },
    {
      "cell_type": "code",
      "metadata": {
        "id": "GXXywPgpHcPt",
        "colab_type": "code",
        "outputId": "9dfa0201-f34c-4c33-eef1-61d98472895f",
        "colab": {
          "base_uri": "https://localhost:8080/",
          "height": 34
        }
      },
      "source": [
        "if(5 == 5):\n",
        "  print(\"This statement is true\")"
      ],
      "execution_count": 0,
      "outputs": [
        {
          "output_type": "stream",
          "text": [
            "This statement is true\n"
          ],
          "name": "stdout"
        }
      ]
    },
    {
      "cell_type": "markdown",
      "metadata": {
        "id": "YDZzK05lOcoz",
        "colab_type": "text"
      },
      "source": [
        "Here, the variables a and b are assigned values 5 and 6 respectively. Because 5 == 6 is not true, the statement below is not exected. However, the else-statement is, because the if-statement did not \"go through\". "
      ]
    },
    {
      "cell_type": "code",
      "metadata": {
        "id": "7iPYydW5ArTK",
        "colab_type": "code",
        "outputId": "e6108e18-b8aa-4755-a304-412722ef2c0b",
        "colab": {
          "base_uri": "https://localhost:8080/",
          "height": 34
        }
      },
      "source": [
        "a = 5\n",
        "b = 6\n",
        "if(a == b):\n",
        "  print(\"This statement is true\")\n",
        "else: \n",
        "  print(\"This statement is not true\")"
      ],
      "execution_count": 0,
      "outputs": [
        {
          "output_type": "stream",
          "text": [
            "This statement is not true\n"
          ],
          "name": "stdout"
        }
      ]
    },
    {
      "cell_type": "markdown",
      "metadata": {
        "id": "ZOdkdVtGOyrh",
        "colab_type": "text"
      },
      "source": [
        "The following structure is a for-loop. The print() statement inside the loop is executed or run 6 times, where the variable i is assigned a number 0, and then incremented (added by 1), until i == 6, which the loop then stops. "
      ]
    },
    {
      "cell_type": "code",
      "metadata": {
        "id": "WRQg8VFCAwXj",
        "colab_type": "code",
        "outputId": "83e71d93-0310-47f2-c673-01d77e11f45c",
        "colab": {
          "base_uri": "https://localhost:8080/",
          "height": 119
        }
      },
      "source": [
        "for i in range(6):\n",
        "  print(i)"
      ],
      "execution_count": 0,
      "outputs": [
        {
          "output_type": "stream",
          "text": [
            "0\n",
            "1\n",
            "2\n",
            "3\n",
            "4\n",
            "5\n"
          ],
          "name": "stdout"
        }
      ]
    },
    {
      "cell_type": "markdown",
      "metadata": {
        "id": "4myU8lkzPX_w",
        "colab_type": "text"
      },
      "source": [
        "#Functions/Methods\n",
        "Here is an example of a function or method we defined ourselves. \n",
        "The name of the function is multiply_ten(), and we must pass a number called an argument into the function in order to make it run. \n",
        "\n",
        "Inside the function, we are multiplying the argument we passed in by 10, which is returned. "
      ]
    },
    {
      "cell_type": "code",
      "metadata": {
        "id": "ZKQBNTgbBsyD",
        "colab_type": "code",
        "outputId": "970174cb-ed3a-4ad2-8228-4694975c38cc",
        "colab": {
          "base_uri": "https://localhost:8080/",
          "height": 34
        }
      },
      "source": [
        "def multiply_ten(num): #introduce functions, parameters\n",
        "  num = num * 10\n",
        "  return num\n",
        "\n",
        "multiply_ten(10)"
      ],
      "execution_count": 0,
      "outputs": [
        {
          "output_type": "execute_result",
          "data": {
            "text/plain": [
              "100"
            ]
          },
          "metadata": {
            "tags": []
          },
          "execution_count": 10
        }
      ]
    },
    {
      "cell_type": "markdown",
      "metadata": {
        "id": "O1sJ1HbNPv_D",
        "colab_type": "text"
      },
      "source": [
        "Using the keyword lambda is another way to define a function in a more efficient way. In this syntax, x is the arguement we have to pass into the function, and as you can see in the body, x is being mutiplied by 10. "
      ]
    },
    {
      "cell_type": "code",
      "metadata": {
        "id": "ZgpavrraA50S",
        "colab_type": "code",
        "outputId": "2f7fb20a-787d-464f-978e-2e20fdfa9276",
        "colab": {
          "base_uri": "https://localhost:8080/",
          "height": 33
        }
      },
      "source": [
        "a = lambda x: x * 10\n",
        "print(a(10))"
      ],
      "execution_count": 0,
      "outputs": [
        {
          "output_type": "stream",
          "text": [
            "100\n"
          ],
          "name": "stdout"
        }
      ]
    },
    {
      "cell_type": "markdown",
      "metadata": {
        "id": "a8J__8BxP-N-",
        "colab_type": "text"
      },
      "source": [
        "#Classes and Objects!\n",
        "Classes are a cruicial part of programming. Each class describes specific characteristics of an object, so that everytime we create an object, they all have primarily the same structure, which is defined through a class. \n",
        "\n",
        "Function defined in classes are required to have the parameter self. We do not have to pass an argument in place of self when we call functions.\n",
        "\n",
        "In the __init__ function, we define the object's parameters and variables. self.name and self.age are assigned the arguements name and age, which are passed as parameters when we first define the object. \n",
        "\n",
        "The bark function is also defined and prints out the word \"woof\" when the method is called. "
      ]
    },
    {
      "cell_type": "code",
      "metadata": {
        "id": "pbsKMaYwyE8y",
        "colab_type": "code",
        "colab": {}
      },
      "source": [
        "class dog:\n",
        "  type = \"animal\"\n",
        "  def __init__(self, name, age):\n",
        "    self.name = name\n",
        "    self.age = age\n",
        "  def bark(self):\n",
        "    print(\"woof\")\n"
      ],
      "execution_count": 0,
      "outputs": []
    },
    {
      "cell_type": "markdown",
      "metadata": {
        "id": "uEX4tm74RvaR",
        "colab_type": "text"
      },
      "source": [
        "Here, an instance or object of class dog is defined. \n",
        "Variables my_name and my_age hold values to the name and age of the dog as a string and an integer. In order to define an object, we call the class name (which is dog) and pass in the arguements required in the __init__ function, which is a name and an age. \n",
        "\n",
        "The object we defined is now assigned the name golden_retriever, and when we call bark(), the output is \"woof\".\n",
        "\n",
        "We can also print out the object's own variables, which we defined when we created the variable by passing through my_name into dog(my_name, my_age). "
      ]
    },
    {
      "cell_type": "code",
      "metadata": {
        "id": "vjb8oKDQyf-R",
        "colab_type": "code",
        "outputId": "15ab9f9a-6417-46c0-b39c-7c6e89e57186",
        "colab": {
          "base_uri": "https://localhost:8080/",
          "height": 50
        }
      },
      "source": [
        "my_name = \"golden retriever\"\n",
        "my_age = 5\n",
        "golden_retriever = dog(my_name, my_age)\n",
        "golden_retriever.bark()\n",
        "print(golden_retriever.name)"
      ],
      "execution_count": 0,
      "outputs": [
        {
          "output_type": "stream",
          "text": [
            "woof\n",
            "golden retriever\n"
          ],
          "name": "stdout"
        }
      ]
    },
    {
      "cell_type": "markdown",
      "metadata": {
        "id": "gvbtfXURSSjU",
        "colab_type": "text"
      },
      "source": [
        "#Libaries\n",
        "In order to make computations easier and our code simpler, we can import libraries that have functions defined for us. One of the reasons python is so popular is because there are so many powerful libraries that make our life easier. One of these is numpy, a scientific computing library, which we can use for machine learning and several different uses."
      ]
    },
    {
      "cell_type": "code",
      "metadata": {
        "id": "Td720STCy3BF",
        "colab_type": "code",
        "colab": {}
      },
      "source": [
        "import numpy"
      ],
      "execution_count": 0,
      "outputs": []
    },
    {
      "cell_type": "markdown",
      "metadata": {
        "id": "_1K9hb2LSff-",
        "colab_type": "text"
      },
      "source": [
        "The numpy library has a function called ndarray(), which requires a number to be passed through it. The function returns a numpy array of size 5. "
      ]
    },
    {
      "cell_type": "code",
      "metadata": {
        "id": "4vzQq-U1y5Xn",
        "colab_type": "code",
        "outputId": "1734e365-c9ca-4afb-96f8-d9db8d45f1d9",
        "colab": {
          "base_uri": "https://localhost:8080/",
          "height": 33
        }
      },
      "source": [
        "print(numpy.ndarray(5))"
      ],
      "execution_count": 0,
      "outputs": [
        {
          "output_type": "stream",
          "text": [
            "[0.   0.25 0.5  0.75 1.  ]\n"
          ],
          "name": "stdout"
        }
      ]
    },
    {
      "cell_type": "markdown",
      "metadata": {
        "id": "1zpaQvGjxjcM",
        "colab_type": "text"
      },
      "source": [
        "#Citations\n",
        "For more information and a more indepth tutorial, please look at the following sources. \n",
        "\n",
        "https://www.python-course.eu/python3_class_and_instance_attributes.php\n",
        "\n",
        "https://www.programiz.com/python-programming\n"
      ]
    }
  ]
}