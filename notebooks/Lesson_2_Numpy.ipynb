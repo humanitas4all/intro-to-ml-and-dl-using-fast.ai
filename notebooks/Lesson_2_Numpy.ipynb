{
  "nbformat": 4,
  "nbformat_minor": 0,
  "metadata": {
    "colab": {
      "name": "Lesson 2 - Numpy",
      "provenance": [],
      "collapsed_sections": [],
      "include_colab_link": true
    },
    "kernelspec": {
      "name": "python3",
      "display_name": "Python 3"
    }
  },
  "cells": [
    {
      "cell_type": "markdown",
      "metadata": {
        "id": "view-in-github",
        "colab_type": "text"
      },
      "source": [
        "<a href=\"https://colab.research.google.com/github/marianqian/Intro-to-ML-and-DL-Using-fast.ai/blob/master/notebooks/Lesson_2_Numpy.ipynb\" target=\"_parent\"><img src=\"https://colab.research.google.com/assets/colab-badge.svg\" alt=\"Open In Colab\"/></a>"
      ]
    },
    {
      "cell_type": "markdown",
      "metadata": {
        "id": "9CugHidfr-nR",
        "colab_type": "text"
      },
      "source": [
        "Welcome to the AIM Academy! This is the second lesson, focused on \n",
        "introducing how to use the Python library, NumPy. NumPy supports the use of arrays with multiple dimensions and other math functions. \n",
        "\n",
        "NOTE: Educational use and distribution is permitted, but credit and attribution to AIM Academy is required. "
      ]
    },
    {
      "cell_type": "markdown",
      "metadata": {
        "id": "y0ubbIsabRJS",
        "colab_type": "text"
      },
      "source": [
        "#Learning Objectives\n",
        "\n",
        "*   Call methods with an object\n",
        "*   Understand NumPy array characteristics\n",
        "* Understand how to look through documentation\n",
        "\n"
      ]
    },
    {
      "cell_type": "markdown",
      "metadata": {
        "id": "IfSxy-F1blRs",
        "colab_type": "text"
      },
      "source": [
        "This Jupyter Notebook, the interface you are using now, will follow along this [quickstart tutorial](https://docs.scipy.org/doc/numpy/user/quickstart.html) to Numpy. "
      ]
    },
    {
      "cell_type": "markdown",
      "metadata": {
        "id": "nSFmRl-Ib4F-",
        "colab_type": "text"
      },
      "source": [
        "#Introduction to ndarray\n",
        "First, let's import the NumPy library itself. Using the `import` function, we can import NumPy and rename it as `np` so we do not have to call the full name every time we want to use the library. \n"
      ]
    },
    {
      "cell_type": "code",
      "metadata": {
        "id": "ZlIXeR804Eb3",
        "colab_type": "code",
        "colab": {}
      },
      "source": [
        "import numpy as np"
      ],
      "execution_count": 0,
      "outputs": []
    },
    {
      "cell_type": "markdown",
      "metadata": {
        "id": "PgiW8Zkge7bO",
        "colab_type": "text"
      },
      "source": [
        "NumPy's array class is known as a `ndarray`. The number of axes a ndarray has is also known as the number of dimensions the array has. Usually, arrays only have two axes, or two dimensions, known as columns and rows. \n",
        "Let's create a ndarray.\n",
        "\n",
        "\n",
        "\n",
        "\n",
        "\n",
        "The array below, assigned the name `example_array`, contains four different doubles, or numbers with decimal points. Each time we added a dot, ., and an attribute, we are calling a specific feature or characteristic of the array. The line `example_array.ndim`, means we are looking at what is stored in the feature `ndim` for the variable `example_array`. You should be familiar with how the print statements work below; if you have any questions, refer to Lesson 1 - Python notebook. Each of the array's features give us different information about the array. The output below explains what each feature means.\n",
        "\n"
      ]
    },
    {
      "cell_type": "code",
      "metadata": {
        "id": "P3_cnoExe1Rx",
        "colab_type": "code",
        "outputId": "7ca6d959-da88-40e8-d757-98ee788d505c",
        "colab": {
          "base_uri": "https://localhost:8080/",
          "height": 102
        }
      },
      "source": [
        "example_array = np.array([[2.2, 3.0], [5.5, 6.8]])\n",
        "print(\"Number of axes or dimensions: \", example_array.ndim)\n",
        "print(\"Dimensions: \", example_array.shape)\n",
        "print(\"Total number of elements in array: \", example_array.size)\n",
        "print(\"Element type inside the array: \", example_array.dtype)\n",
        "print(\"Type of object: \", type(example_array))"
      ],
      "execution_count": 0,
      "outputs": [
        {
          "output_type": "stream",
          "text": [
            "Number of axes or dimensions:  2\n",
            "Dimensions:  (2, 2)\n",
            "Total number of elements in array:  4\n",
            "Element type inside the array:  float64\n",
            "Type of object:  <class 'numpy.ndarray'>\n"
          ],
          "name": "stdout"
        }
      ]
    },
    {
      "cell_type": "markdown",
      "metadata": {
        "id": "r9Fi0ADRhn4O",
        "colab_type": "text"
      },
      "source": [
        "#Creating ndarrays\n",
        "In the above example, `example_array` was created through explicitly stating what elements were inside the array. \n",
        "```\n",
        "example_array = np.array([[2.2, 3.0], [5.5, 6.8]])\n",
        "another_array = np.array([4.0, 5.3])\n",
        "```\n",
        "Here, `another_array` is also created in the same way as `example_array`. The only difference between the two is that `another_array` has one axes, or only has one dimension. \n",
        "\n",
        "Notice how the arguement that is passed into `np.array() `is a list, `[]`, and not just the elements itself. \n",
        "\n",
        "Rather than specifying what is in the array, NumPy also allows us to create arrays that are automatically filled with numbers, but with a set size that we give as an argument. The code block below shows the different ways we can create ndarrays without actually needing to know what the array contains beforehand. These methods automatically fill-in the arrays. \n",
        "\n",
        "For these methods, a tuple consisting of the dimensions for the array must be passed. The date type of the element can also be specified from the `dtype` parameter, but it is not required. NumPy automatically assumes that `dtype=float64`. \n",
        "\n",
        "Specifically for `np.arange()`, the function returns a list of numbers that is a sequence. The three arguments is the begining number, the ending number, and the size of the step for each interval. The function works similar to the for-statement in Python but returns an array instead. "
      ]
    },
    {
      "cell_type": "code",
      "metadata": {
        "id": "MlkWESTjlxBh",
        "colab_type": "code",
        "outputId": "dc43e858-a1a1-4e7f-b5f9-3e92424463c0",
        "colab": {
          "base_uri": "https://localhost:8080/",
          "height": 663
        }
      },
      "source": [
        "zero = np.zeros((4, 3))\n",
        "print(\"\\nUsing np.zeros: Returns an array filled with zeros. \\n\", zero)\n",
        "ones = np.ones((4, 5, 2), dtype=np.int8)\n",
        "print(\"\\nUsing np.ones: Returns an array filled with ones.  \\n\", ones)\n",
        "random = np.empty((6))\n",
        "print(\"\\nUsing np.empty: Returns an array with random numbers specified by data type. \\n\", random)\n",
        "sequence = np.arange(2, 10, 2)\n",
        "print(\"\\nUsing np.arange: Returns an array of sequence of numbers. (One dimensional array) \\n\", sequence)"
      ],
      "execution_count": 0,
      "outputs": [
        {
          "output_type": "stream",
          "text": [
            "\n",
            "Using np.zeros: Returns an array filled with zeros. \n",
            " [[0. 0. 0.]\n",
            " [0. 0. 0.]\n",
            " [0. 0. 0.]\n",
            " [0. 0. 0.]]\n",
            "\n",
            "Using np.ones: Returns an array filled with ones.  \n",
            " [[[1 1]\n",
            "  [1 1]\n",
            "  [1 1]\n",
            "  [1 1]\n",
            "  [1 1]]\n",
            "\n",
            " [[1 1]\n",
            "  [1 1]\n",
            "  [1 1]\n",
            "  [1 1]\n",
            "  [1 1]]\n",
            "\n",
            " [[1 1]\n",
            "  [1 1]\n",
            "  [1 1]\n",
            "  [1 1]\n",
            "  [1 1]]\n",
            "\n",
            " [[1 1]\n",
            "  [1 1]\n",
            "  [1 1]\n",
            "  [1 1]\n",
            "  [1 1]]]\n",
            "\n",
            "Using np.empty: Returns an array with random numbers specified by data type. \n",
            " [1.82137340e-316 2.75895426e-316 2.71938316e-316 2.71934996e-316\n",
            " 2.71943059e-316 6.33422981e+173]\n",
            "\n",
            "Using np.arange: Returns an array of sequence of numbers. (One dimensional array) \n",
            " [2 4 6 8]\n"
          ],
          "name": "stdout"
        }
      ]
    },
    {
      "cell_type": "markdown",
      "metadata": {
        "id": "2KIa3on3oieL",
        "colab_type": "text"
      },
      "source": [
        "Note that when the arrays are printed out, it is printed out similar to how lists are printed out. \n",
        "NumPy automatically does not include the center part of an array if it is too big to print out the whole thing. "
      ]
    },
    {
      "cell_type": "markdown",
      "metadata": {
        "id": "cfzU7v7nppft",
        "colab_type": "text"
      },
      "source": [
        "#Operating with ndarrays\n",
        "Basic arithmetic operations (addition, subtraction, multiplication, and division) are done element-wise for each array, and the resulting array has each element with the operation already applied to it. For example, if `a` as a ndarray, `a + 2` would result in a **new ndarray** that has the same exact properties as a, except its elements will be bigger by 2.\n",
        "\n"
      ]
    },
    {
      "cell_type": "code",
      "metadata": {
        "id": "2v_FqNgoJTwg",
        "colab_type": "code",
        "outputId": "427a72fb-7019-4367-8140-b465828bc42b",
        "colab": {
          "base_uri": "https://localhost:8080/",
          "height": 119
        }
      },
      "source": [
        "print(\"ndarray a: \\n\", a)\n",
        "a = np.array([1, 2, 3, 4])\n",
        "new_a = a + 2\n",
        "print(\"ndarray new_a: \\n\", new_a)\n",
        "print(\"ndarray a: remains the same as before \\n\", a)"
      ],
      "execution_count": 0,
      "outputs": [
        {
          "output_type": "stream",
          "text": [
            "ndarray a: \n",
            " [1 2 3 4]\n",
            "ndarray new_a: \n",
            " [3 4 5 6]\n",
            "ndarray a: remains the same as before \n",
            " [1 2 3 4]\n"
          ],
          "name": "stdout"
        }
      ]
    },
    {
      "cell_type": "markdown",
      "metadata": {
        "id": "refHE2ayJuld",
        "colab_type": "text"
      },
      "source": [
        "In the example below, we will keep using our `example_array` from the previous code block. If two ndarrays have the same dimensions, we can add, subtract, multiply, or subtract their values. "
      ]
    },
    {
      "cell_type": "code",
      "metadata": {
        "id": "bYYGhL3hI5Kc",
        "colab_type": "code",
        "outputId": "69d51d2d-7d2e-4b28-c040-90c3b8e2001b",
        "colab": {
          "base_uri": "https://localhost:8080/",
          "height": 323
        }
      },
      "source": [
        "print(\"ndarray example_array: \\n\", example_array)\n",
        "array = np.array([[4.3, 7.9], [2.1, 9.0]])\n",
        "print(\"ndarray array: \\n\", array)\n",
        "print(\"Subtracting example_array - array: \\n\", example_array - array)\n",
        "print(\"Adding example_array + array: \\n\", example_array + array)\n",
        "print(\"Multiplying example_array * array: \\n\", example_array * array)\n",
        "print(\"Dividing example_array / array: \\n\", example_array / array)"
      ],
      "execution_count": 0,
      "outputs": [
        {
          "output_type": "stream",
          "text": [
            "ndarray example_array: \n",
            " [[2.2 3. ]\n",
            " [5.5 6.8]]\n",
            "ndarray array: \n",
            " [[4.3 7.9]\n",
            " [2.1 9. ]]\n",
            "Subtracting example_array - array: \n",
            " [[-2.1 -4.9]\n",
            " [ 3.4 -2.2]]\n",
            "Adding example_array + array: \n",
            " [[ 6.5 10.9]\n",
            " [ 7.6 15.8]]\n",
            "Multiplying example_array * array: \n",
            " [[ 9.46 23.7 ]\n",
            " [11.55 61.2 ]]\n",
            "Dividing example_array / array: \n",
            " [[0.51162791 0.37974684]\n",
            " [2.61904762 0.75555556]]\n"
          ],
          "name": "stdout"
        }
      ]
    },
    {
      "cell_type": "markdown",
      "metadata": {
        "id": "xTDcX2yULQJE",
        "colab_type": "text"
      },
      "source": [
        "Note that everytime we are using an operation on an array, we are creating a whole new array. The initial array we applied the operator on remains the same, unless we add an equal sign (=) after the operator. With the equal sign included, the array itself is modified.\n",
        "\n",
        "THe @ sign denotes the dot product between two arrays. Watch [this Khan Academy video](https://www.khanacademy.org/math/linear-algebra/vectors-and-spaces/dot-cross-products/v/vector-dot-product-and-vector-length) for more information about dot products. \n",
        "\n"
      ]
    },
    {
      "cell_type": "code",
      "metadata": {
        "id": "iv4WzEwlMyeA",
        "colab_type": "code",
        "outputId": "ad697cd0-7c72-43e4-bfa9-49314bacbc73",
        "colab": {
          "base_uri": "https://localhost:8080/",
          "height": 119
        }
      },
      "source": [
        "print(\"Dot product example_array @ array: \\n\", example_array @ array)\n",
        "print(\"Dot product example_array @ array: \\n\", example_array.dot(array))"
      ],
      "execution_count": 0,
      "outputs": [
        {
          "output_type": "stream",
          "text": [
            "Dot product example_array @ array: \n",
            " [[ 15.76  44.38]\n",
            " [ 37.93 104.65]]\n",
            "Dot product example_array @ array: \n",
            " [[ 15.76  44.38]\n",
            " [ 37.93 104.65]]\n"
          ],
          "name": "stdout"
        }
      ]
    },
    {
      "cell_type": "markdown",
      "metadata": {
        "id": "HMye1QZJNfH0",
        "colab_type": "text"
      },
      "source": [
        "The NumPy ndarray class also allows us to find the sum and different information about the array. Methods such as sum(), min(), and max() can give us the total sum, minimum, and maximum of the whole array, and passing a specific axis (axis=0, only looking at each column) as a parameter will give information specific to that axis."
      ]
    },
    {
      "cell_type": "code",
      "metadata": {
        "id": "qg77_s6JN5zq",
        "colab_type": "code",
        "outputId": "276e6f5f-1993-45e8-c5a5-abe11bb0bd87",
        "colab": {
          "base_uri": "https://localhost:8080/",
          "height": 119
        }
      },
      "source": [
        "print(\"Sum of elements in example_array: \", example_array.sum())\n",
        "print(\"Minimum in example_array: \", example_array.min())\n",
        "print(\"Maximum in example_array: \", example_array.max())\n",
        "\n",
        "print(\"Sum of elements in example_array for each column \", example_array.sum(axis=0))\n",
        "print(\"Minimum in example_array for each column: \", example_array.min(axis=0))\n",
        "print(\"Maximum in example_array for each column: \", example_array.max(axis=0))"
      ],
      "execution_count": 0,
      "outputs": [
        {
          "output_type": "stream",
          "text": [
            "Sum of elements in example_array:  17.5\n",
            "Minimum in example_array:  2.2\n",
            "Maximum in example_array:  6.8\n",
            "Sum of elements in example_array for each column  [7.7 9.8]\n",
            "Minimum in example_array for each column:  [2.2 3. ]\n",
            "Maximum in example_array for each column:  [5.5 6.8]\n"
          ],
          "name": "stdout"
        }
      ]
    },
    {
      "cell_type": "markdown",
      "metadata": {
        "id": "cr_tfvH5OvhI",
        "colab_type": "text"
      },
      "source": [
        "#Iterating through an ndarray\n",
        "We can look at sections of arrays by slicing, using colons (`:`) with brackets (`[]`). `example_array[1]` gives the whole second row of the array because arrays are indexed beginning at zero, and `example_array[0:2]` gives the first and second rows, but not including the third row. `example_array` itself does not have a third row, but in other arrays, you can access a specific set of rows by using slicing. "
      ]
    },
    {
      "cell_type": "code",
      "metadata": {
        "id": "5oJ-ANo6PKg1",
        "colab_type": "code",
        "outputId": "d9ca071c-589b-48db-a35f-4ed3d4d230f5",
        "colab": {
          "base_uri": "https://localhost:8080/",
          "height": 153
        }
      },
      "source": [
        "print(\"example_array: \\n\", example_array)\n",
        "print(\"example_array[1]: \\n\", example_array[1])\n",
        "print(\"example_array[0:2]: \\n\", example_array[0:2])"
      ],
      "execution_count": 0,
      "outputs": [
        {
          "output_type": "stream",
          "text": [
            "example_array: \n",
            " [[2.2 3. ]\n",
            " [5.5 6.8]]\n",
            "example_array[1]: \n",
            " [5.5 6.8]\n",
            "example_array[0:1]: \n",
            " [[2.2 3. ]\n",
            " [5.5 6.8]]\n"
          ],
          "name": "stdout"
        }
      ]
    },
    {
      "cell_type": "markdown",
      "metadata": {
        "id": "XF2iU7IQSAeV",
        "colab_type": "text"
      },
      "source": [
        "For multidimensional arrays, one index for each axis can access a specific element inside the array. In `example_array[1,0]`, we are accessing the first element (0) in the second row (1). The indexes can be replaced with slices, where `example_array[0:1, 1]` includes 0:1 instead of just 0, but also gives us the first row. "
      ]
    },
    {
      "cell_type": "code",
      "metadata": {
        "id": "Rw9sdEYSPkSz",
        "colab_type": "code",
        "outputId": "65564e68-e661-4238-97d7-627059771c1d",
        "colab": {
          "base_uri": "https://localhost:8080/",
          "height": 85
        }
      },
      "source": [
        "print(\"example_array[1,0]: \\n\", example_array[1,0])\n",
        "print(\"example_array[1]: \\n\", example_array[0:1, 1])"
      ],
      "execution_count": 0,
      "outputs": [
        {
          "output_type": "stream",
          "text": [
            "example_array[1,0]: \n",
            " 5.5\n",
            "example_array[1]: \n",
            " [3.]\n"
          ],
          "name": "stdout"
        }
      ]
    },
    {
      "cell_type": "markdown",
      "metadata": {
        "id": "WqZhizd1Qyer",
        "colab_type": "text"
      },
      "source": [
        "We can use the for-statement to loop through elements inside the array. By calling `example_array.flat`, we are able to look at each element in the array instead of each row. "
      ]
    },
    {
      "cell_type": "code",
      "metadata": {
        "id": "WxHvsVDRPlHD",
        "colab_type": "code",
        "outputId": "4f13e5f0-de2b-45f2-a23a-0018ee9d5ba9",
        "colab": {
          "base_uri": "https://localhost:8080/",
          "height": 187
        }
      },
      "source": [
        "print(\"Printing each row in example_array:\")\n",
        "for row in example_array:\n",
        "  print(row)\n",
        "print(\"\\n\")\n",
        "print(\"Printing each element in example_array:\")\n",
        "for element in example_array.flat:\n",
        "  print(element)"
      ],
      "execution_count": 0,
      "outputs": [
        {
          "output_type": "stream",
          "text": [
            "Printing each row in example_array:\n",
            "[2.2 3. ]\n",
            "[5.5 6.8]\n",
            "\n",
            "\n",
            "Printing each element in example_array:\n",
            "2.2\n",
            "3.0\n",
            "5.5\n",
            "6.8\n"
          ],
          "name": "stdout"
        }
      ]
    },
    {
      "cell_type": "markdown",
      "metadata": {
        "id": "VEFV5pBITMRJ",
        "colab_type": "text"
      },
      "source": [
        "#Changing array shape\n",
        "Here, we will continue to use the `example_array` from before. The `ravel()` method returns a one-dimensional array, with the length being the number of elements in the array. `reshape()` changes the shape of the array to the given dimensions from the parameters, and leaving -1 as a dimension will allow the array to automatically calculate that dimension so that the number of elements stays the same. All of these functions return a separate, new array; however, if we use `resize()`, the dimensions of the array is modified. \n"
      ]
    },
    {
      "cell_type": "code",
      "metadata": {
        "id": "P7ihPlDATXfq",
        "colab_type": "code",
        "outputId": "f27f492c-5414-4ada-dd2c-54351a90a887",
        "colab": {
          "base_uri": "https://localhost:8080/",
          "height": 340
        }
      },
      "source": [
        "print(\"example_array: \\n\", example_array)\n",
        "print(\"example_array.ravel() \\n\", example_array.ravel())\n",
        "print(\"example_array.reshape(4, 1) \\n\", example_array.reshape(4, 1))\n",
        "print(\"example_array.reshape(4, -1) \\n\", example_array.reshape(4, -1))\n",
        "example_array.resize(1, 4)\n",
        "print(\"example_array \\n\", example_array)\n",
        "example_array.resize(2, 2)\n",
        "print(\"example_array \\n\", example_array)\n"
      ],
      "execution_count": 0,
      "outputs": [
        {
          "output_type": "stream",
          "text": [
            "example_array: \n",
            " [[2.2 3.  5.5 6.8]]\n",
            "example_array.ravel() \n",
            " [2.2 3.  5.5 6.8]\n",
            "example_array.reshape(4, 1) \n",
            " [[2.2]\n",
            " [3. ]\n",
            " [5.5]\n",
            " [6.8]]\n",
            "example_array.reshape(4, -1) \n",
            " [[2.2]\n",
            " [3. ]\n",
            " [5.5]\n",
            " [6.8]]\n",
            "example_array \n",
            " [[2.2 3.  5.5 6.8]]\n",
            "example_array \n",
            " [[2.2 3. ]\n",
            " [5.5 6.8]]\n"
          ],
          "name": "stdout"
        }
      ]
    },
    {
      "cell_type": "markdown",
      "metadata": {
        "id": "YTdwmZZRUQ7U",
        "colab_type": "text"
      },
      "source": [
        "`another_name = example_array` gives another name to example_array. Changing `another_name` will change the elements in `example_array`. \n",
        "\n",
        "`view = example_array.view()` calls view to be a shallow copy, where the elements are the same and changing one element in one array will change the same element in the other; however, we can reshape the array's dimensions, and the other array will not change. `view` is view of the data owned by `example_array`. \n",
        "\n",
        "`deep_copy = example_array.copy()` creates a whole new copy, a deep copy, of `example_array`. Changing anything in `example_array` will not change `deep_copy`, as they are completely separate objects. \n",
        "\n"
      ]
    },
    {
      "cell_type": "code",
      "metadata": {
        "id": "Nc1mynrLWzsr",
        "colab_type": "code",
        "colab": {}
      },
      "source": [
        "another_name = example_array\n",
        "view = example_array.view()\n",
        "deep_copy = example_array.copy()"
      ],
      "execution_count": 0,
      "outputs": []
    },
    {
      "cell_type": "markdown",
      "metadata": {
        "id": "NuZfzE_5IA7-",
        "colab_type": "text"
      },
      "source": [
        "#Broadcasting\n",
        "Broadcasting is a technique where arrays which do not have the same dimensions can be multiplied with one another. Broadcasting allows us to not have to waste time to state specific arrays with the same dimensions. Go to the following NumPy links to learn more about broadcasting: \n",
        "* [Basic Broadcasting](https://docs.scipy.org/doc/numpy/user/basics.broadcasting.html)\n",
        "* [Array broadcasting in NumPy](https://docs.scipy.org/doc/numpy/user/theory.broadcasting.html#array-broadcasting-in-numpy\n",
        ")\n",
        "\n",
        "During broadcasting, we multiply a vector, or an array, by a scalar, or one number. Two arrays do not need the same dimentions **if one of the array's dimensions is 1**, or else they need the same number of dimensions. The trailing dimensions of both arrays must match. The array with less dimensions are stretched over, or copied over, to make a larger array, which is then multiplied to the originally bigger array. \n",
        "\n",
        "![Broadcasting picture](https://docs.scipy.org/doc/numpy/_images/theory.broadcast_2.gif)\n",
        "\n",
        "(Array Broadcasting in Numpy, https://docs.scipy.org/doc/numpy/user/theory.broadcasting.html#array-broadcasting-in-numpy)"
      ]
    },
    {
      "cell_type": "code",
      "metadata": {
        "id": "jIGNHyeKYGzv",
        "colab_type": "code",
        "outputId": "d91a6807-5c1b-4bf8-832c-093b7ec988e1",
        "colab": {
          "base_uri": "https://localhost:8080/",
          "height": 340
        }
      },
      "source": [
        "print(\"example_array: \\n\", example_array)\n",
        "print(\"example_array.shape: \", example_array.shape)\n",
        "example_array.resize(4, 1)\n",
        "print(\"example_array: \\n\", example_array)\n",
        "print(\"example_array.shape: \", example_array.shape)\n",
        "a = np.ones(5)\n",
        "print(\"a: \\n\", a)\n",
        "print(\"a.shape: \", a.shape)\n",
        "print(example_array * a)"
      ],
      "execution_count": 0,
      "outputs": [
        {
          "output_type": "stream",
          "text": [
            "example_array: \n",
            " [[2.2]\n",
            " [3. ]\n",
            " [5.5]\n",
            " [6.8]]\n",
            "example_array.shape:  (4, 1)\n",
            "example_array: \n",
            " [[2.2]\n",
            " [3. ]\n",
            " [5.5]\n",
            " [6.8]]\n",
            "example_array.shape:  (4, 1)\n",
            "a: \n",
            " [1. 1. 1. 1. 1.]\n",
            "a.shape:  (5,)\n",
            "[[2.2 2.2 2.2 2.2 2.2]\n",
            " [3.  3.  3.  3.  3. ]\n",
            " [5.5 5.5 5.5 5.5 5.5]\n",
            " [6.8 6.8 6.8 6.8 6.8]]\n"
          ],
          "name": "stdout"
        }
      ]
    }
  ]
}